{
  "nbformat": 4,
  "nbformat_minor": 0,
  "metadata": {
    "colab": {
      "name": "EDA Segurança Minas Gerais",
      "provenance": [],
      "authorship_tag": "ABX9TyMkopNZogDSixBMz2syZpM0"
    },
    "kernelspec": {
      "name": "python3",
      "display_name": "Python 3"
    },
    "language_info": {
      "name": "python"
    }
  },
  "cells": [
    {
      "cell_type": "code",
      "metadata": {
        "id": "MPKW7VswaUkQ",
        "colab": {
          "resources": {
            "http://localhost:8080/nbextensions/google.colab/files.js": {
              "data": "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",
              "ok": true,
              "headers": [
                [
                  "content-type",
                  "application/javascript"
                ]
              ],
              "status": 200,
              "status_text": ""
            }
          },
          "base_uri": "https://localhost:8080/",
          "height": 243
        },
        "outputId": "dce22d54-aa4e-419b-cfba-ff3778768e3e"
      },
      "source": [
        "from google.colab import files\n",
        "uploaded = files.upload()"
      ],
      "execution_count": null,
      "outputs": [
        {
          "output_type": "display_data",
          "data": {
            "text/html": [
              "\n",
              "     <input type=\"file\" id=\"files-d424c0c5-6e22-4fb5-90f1-c7494baa2aa6\" name=\"files[]\" multiple disabled\n",
              "        style=\"border:none\" />\n",
              "     <output id=\"result-d424c0c5-6e22-4fb5-90f1-c7494baa2aa6\">\n",
              "      Upload widget is only available when the cell has been executed in the\n",
              "      current browser session. Please rerun this cell to enable.\n",
              "      </output>\n",
              "      <script src=\"/nbextensions/google.colab/files.js\"></script> "
            ],
            "text/plain": [
              "<IPython.core.display.HTML object>"
            ]
          },
          "metadata": {}
        },
        {
          "output_type": "stream",
          "name": "stdout",
          "text": [
            "Saving furto_carro.csv to furto_carro.csv\n",
            "Saving furto_geral.csv to furto_geral.csv\n",
            "Saving homicidios_dados.csv to homicidios_dados.csv\n",
            "Saving outras_naturezas.csv to outras_naturezas.csv\n",
            "Saving roubo_carro.csv to roubo_carro.csv\n",
            "Saving roubo_geral.csv to roubo_geral.csv\n"
          ]
        }
      ]
    },
    {
      "cell_type": "code",
      "metadata": {
        "id": "f8-p_XHapVFe"
      },
      "source": [
        "import pandas as pd"
      ],
      "execution_count": null,
      "outputs": []
    },
    {
      "cell_type": "code",
      "metadata": {
        "colab": {
          "base_uri": "https://localhost:8080/"
        },
        "id": "jwaaOFcpsdcd",
        "outputId": "0608cde1-8981-4495-c423-78f7a9692552"
      },
      "source": [
        "furto_carro = pd.read_csv(\"furto_carro.csv\", sep = ';', encoding='ISO-8859-1')\n",
        "furto_geral =pd.read_csv('furto_geral.csv', encoding='ISO-8859-1',sep = ';')\n",
        "homicidios =pd.read_csv('homicidios_dados.csv', encoding=\"ISO-8859-1\",sep = ';')\n",
        "outros =pd.read_csv('outras_naturezas.csv', encoding=\"ISO-8859-1\",sep = ';')\n",
        "roubo_carro =pd.read_csv('roubo_carro.csv', encoding=\"ISO-8859-1\",sep = ';')\n",
        "roubo_geral =pd.read_csv('roubo_geral.csv', encoding=\"ISO-8859-1\",sep = ';')\n"
      ],
      "execution_count": null,
      "outputs": [
        {
          "output_type": "stream",
          "name": "stderr",
          "text": [
            "/usr/local/lib/python3.7/dist-packages/IPython/core/interactiveshell.py:2718: DtypeWarning: Columns (1,2,3,9) have mixed types.Specify dtype option on import or set low_memory=False.\n",
            "  interactivity=interactivity, compiler=compiler, result=result)\n"
          ]
        }
      ]
    },
    {
      "cell_type": "code",
      "metadata": {
        "colab": {
          "base_uri": "https://localhost:8080/",
          "height": 204
        },
        "id": "zrbMApGNt5cr",
        "outputId": "81b4c2e7-24c9-42c3-d949-22584d791aba"
      },
      "source": [
        "furto_carro.head()"
      ],
      "execution_count": null,
      "outputs": [
        {
          "output_type": "execute_result",
          "data": {
            "text/html": [
              "<div>\n",
              "<style scoped>\n",
              "    .dataframe tbody tr th:only-of-type {\n",
              "        vertical-align: middle;\n",
              "    }\n",
              "\n",
              "    .dataframe tbody tr th {\n",
              "        vertical-align: top;\n",
              "    }\n",
              "\n",
              "    .dataframe thead th {\n",
              "        text-align: right;\n",
              "    }\n",
              "</style>\n",
              "<table border=\"1\" class=\"dataframe\">\n",
              "  <thead>\n",
              "    <tr style=\"text-align: right;\">\n",
              "      <th></th>\n",
              "      <th>Registros</th>\n",
              "      <th>Natureza</th>\n",
              "      <th>Alvos</th>\n",
              "      <th>Município</th>\n",
              "      <th>Cod IBGE</th>\n",
              "      <th>Mês</th>\n",
              "      <th>Ano</th>\n",
              "      <th>RISP</th>\n",
              "      <th>RISP Nova</th>\n",
              "      <th>RMBH</th>\n",
              "    </tr>\n",
              "  </thead>\n",
              "  <tbody>\n",
              "    <tr>\n",
              "      <th>0</th>\n",
              "      <td>1</td>\n",
              "      <td>Furto</td>\n",
              "      <td>Veículos</td>\n",
              "      <td>ABADIA DOS DOURADOS</td>\n",
              "      <td>310010</td>\n",
              "      <td>1</td>\n",
              "      <td>2015</td>\n",
              "      <td>10</td>\n",
              "      <td>10</td>\n",
              "      <td>NÃO</td>\n",
              "    </tr>\n",
              "    <tr>\n",
              "      <th>1</th>\n",
              "      <td>1</td>\n",
              "      <td>Furto</td>\n",
              "      <td>Veículos</td>\n",
              "      <td>ABAETE</td>\n",
              "      <td>310020</td>\n",
              "      <td>1</td>\n",
              "      <td>2015</td>\n",
              "      <td>7</td>\n",
              "      <td>7</td>\n",
              "      <td>NÃO</td>\n",
              "    </tr>\n",
              "    <tr>\n",
              "      <th>2</th>\n",
              "      <td>0</td>\n",
              "      <td>Furto</td>\n",
              "      <td>Veículos</td>\n",
              "      <td>ABRE-CAMPO</td>\n",
              "      <td>310030</td>\n",
              "      <td>1</td>\n",
              "      <td>2015</td>\n",
              "      <td>12</td>\n",
              "      <td>12</td>\n",
              "      <td>NÃO</td>\n",
              "    </tr>\n",
              "    <tr>\n",
              "      <th>3</th>\n",
              "      <td>0</td>\n",
              "      <td>Furto</td>\n",
              "      <td>Veículos</td>\n",
              "      <td>ACAIACA</td>\n",
              "      <td>310040</td>\n",
              "      <td>1</td>\n",
              "      <td>2015</td>\n",
              "      <td>12</td>\n",
              "      <td>12</td>\n",
              "      <td>NÃO</td>\n",
              "    </tr>\n",
              "    <tr>\n",
              "      <th>4</th>\n",
              "      <td>0</td>\n",
              "      <td>Furto</td>\n",
              "      <td>Veículos</td>\n",
              "      <td>ACUCENA</td>\n",
              "      <td>310050</td>\n",
              "      <td>1</td>\n",
              "      <td>2015</td>\n",
              "      <td>12</td>\n",
              "      <td>12</td>\n",
              "      <td>NÃO</td>\n",
              "    </tr>\n",
              "  </tbody>\n",
              "</table>\n",
              "</div>"
            ],
            "text/plain": [
              "   Registros Natureza     Alvos  ... RISP  RISP Nova  RMBH\n",
              "0          1    Furto  Veículos  ...   10         10   NÃO\n",
              "1          1    Furto  Veículos  ...    7          7   NÃO\n",
              "2          0    Furto  Veículos  ...   12         12   NÃO\n",
              "3          0    Furto  Veículos  ...   12         12   NÃO\n",
              "4          0    Furto  Veículos  ...   12         12   NÃO\n",
              "\n",
              "[5 rows x 10 columns]"
            ]
          },
          "metadata": {},
          "execution_count": 18
        }
      ]
    },
    {
      "cell_type": "code",
      "metadata": {
        "colab": {
          "base_uri": "https://localhost:8080/",
          "height": 204
        },
        "id": "ThCBj8kowraI",
        "outputId": "6f467229-ff0c-486e-cd60-1976fe388753"
      },
      "source": [
        "furto_geral.tail()"
      ],
      "execution_count": null,
      "outputs": [
        {
          "output_type": "execute_result",
          "data": {
            "text/html": [
              "<div>\n",
              "<style scoped>\n",
              "    .dataframe tbody tr th:only-of-type {\n",
              "        vertical-align: middle;\n",
              "    }\n",
              "\n",
              "    .dataframe tbody tr th {\n",
              "        vertical-align: top;\n",
              "    }\n",
              "\n",
              "    .dataframe thead th {\n",
              "        text-align: right;\n",
              "    }\n",
              "</style>\n",
              "<table border=\"1\" class=\"dataframe\">\n",
              "  <thead>\n",
              "    <tr style=\"text-align: right;\">\n",
              "      <th></th>\n",
              "      <th>Registros</th>\n",
              "      <th>Natureza</th>\n",
              "      <th>Alvos</th>\n",
              "      <th>Município</th>\n",
              "      <th>Cod IBGE</th>\n",
              "      <th>Mês</th>\n",
              "      <th>Ano</th>\n",
              "      <th>RISP</th>\n",
              "      <th>RISP Nova</th>\n",
              "      <th>RMBH</th>\n",
              "    </tr>\n",
              "  </thead>\n",
              "  <tbody>\n",
              "    <tr>\n",
              "      <th>443555</th>\n",
              "      <td>NaN</td>\n",
              "      <td>NaN</td>\n",
              "      <td>NaN</td>\n",
              "      <td>NaN</td>\n",
              "      <td>NaN</td>\n",
              "      <td>NaN</td>\n",
              "      <td>NaN</td>\n",
              "      <td>NaN</td>\n",
              "      <td>NaN</td>\n",
              "      <td>NaN</td>\n",
              "    </tr>\n",
              "    <tr>\n",
              "      <th>443556</th>\n",
              "      <td>NaN</td>\n",
              "      <td>NaN</td>\n",
              "      <td>NaN</td>\n",
              "      <td>NaN</td>\n",
              "      <td>NaN</td>\n",
              "      <td>NaN</td>\n",
              "      <td>NaN</td>\n",
              "      <td>NaN</td>\n",
              "      <td>NaN</td>\n",
              "      <td>NaN</td>\n",
              "    </tr>\n",
              "    <tr>\n",
              "      <th>443557</th>\n",
              "      <td>NaN</td>\n",
              "      <td>NaN</td>\n",
              "      <td>NaN</td>\n",
              "      <td>NaN</td>\n",
              "      <td>NaN</td>\n",
              "      <td>NaN</td>\n",
              "      <td>NaN</td>\n",
              "      <td>NaN</td>\n",
              "      <td>NaN</td>\n",
              "      <td>NaN</td>\n",
              "    </tr>\n",
              "    <tr>\n",
              "      <th>443558</th>\n",
              "      <td>NaN</td>\n",
              "      <td>NaN</td>\n",
              "      <td>NaN</td>\n",
              "      <td>NaN</td>\n",
              "      <td>NaN</td>\n",
              "      <td>NaN</td>\n",
              "      <td>NaN</td>\n",
              "      <td>NaN</td>\n",
              "      <td>NaN</td>\n",
              "      <td>NaN</td>\n",
              "    </tr>\n",
              "    <tr>\n",
              "      <th>443559</th>\n",
              "      <td>NaN</td>\n",
              "      <td>NaN</td>\n",
              "      <td>NaN</td>\n",
              "      <td>NaN</td>\n",
              "      <td>NaN</td>\n",
              "      <td>NaN</td>\n",
              "      <td>NaN</td>\n",
              "      <td>NaN</td>\n",
              "      <td>NaN</td>\n",
              "      <td>NaN</td>\n",
              "    </tr>\n",
              "  </tbody>\n",
              "</table>\n",
              "</div>"
            ],
            "text/plain": [
              "        Registros Natureza Alvos Município  ...  Ano  RISP  RISP Nova  RMBH\n",
              "443555        NaN      NaN   NaN       NaN  ...  NaN   NaN        NaN   NaN\n",
              "443556        NaN      NaN   NaN       NaN  ...  NaN   NaN        NaN   NaN\n",
              "443557        NaN      NaN   NaN       NaN  ...  NaN   NaN        NaN   NaN\n",
              "443558        NaN      NaN   NaN       NaN  ...  NaN   NaN        NaN   NaN\n",
              "443559        NaN      NaN   NaN       NaN  ...  NaN   NaN        NaN   NaN\n",
              "\n",
              "[5 rows x 10 columns]"
            ]
          },
          "metadata": {},
          "execution_count": 7
        }
      ]
    },
    {
      "cell_type": "code",
      "metadata": {
        "colab": {
          "base_uri": "https://localhost:8080/",
          "height": 204
        },
        "id": "vWBbrSxoy_Go",
        "outputId": "471cc7b2-5833-4bf5-8e98-266d08da4ce8"
      },
      "source": [
        "homicidios.tail()"
      ],
      "execution_count": null,
      "outputs": [
        {
          "output_type": "execute_result",
          "data": {
            "text/html": [
              "<div>\n",
              "<style scoped>\n",
              "    .dataframe tbody tr th:only-of-type {\n",
              "        vertical-align: middle;\n",
              "    }\n",
              "\n",
              "    .dataframe tbody tr th {\n",
              "        vertical-align: top;\n",
              "    }\n",
              "\n",
              "    .dataframe thead th {\n",
              "        text-align: right;\n",
              "    }\n",
              "</style>\n",
              "<table border=\"1\" class=\"dataframe\">\n",
              "  <thead>\n",
              "    <tr style=\"text-align: right;\">\n",
              "      <th></th>\n",
              "      <th>Registros</th>\n",
              "      <th>Natureza</th>\n",
              "      <th>Município</th>\n",
              "      <th>Cod. IBGE</th>\n",
              "      <th>Mês</th>\n",
              "      <th>Ano</th>\n",
              "      <th>RISP</th>\n",
              "      <th>RISP Nova</th>\n",
              "      <th>RMBH</th>\n",
              "    </tr>\n",
              "  </thead>\n",
              "  <tbody>\n",
              "    <tr>\n",
              "      <th>98943</th>\n",
              "      <td>0</td>\n",
              "      <td>Vítima de Homicídio Consumado</td>\n",
              "      <td>VIRGOLANDIA</td>\n",
              "      <td>317190</td>\n",
              "      <td>8</td>\n",
              "      <td>2021</td>\n",
              "      <td>8</td>\n",
              "      <td>8</td>\n",
              "      <td>NÃO</td>\n",
              "    </tr>\n",
              "    <tr>\n",
              "      <th>98944</th>\n",
              "      <td>1</td>\n",
              "      <td>Vítima de Homicídio Consumado</td>\n",
              "      <td>VISCONDE DO RIO BRANCO</td>\n",
              "      <td>317200</td>\n",
              "      <td>8</td>\n",
              "      <td>2021</td>\n",
              "      <td>4</td>\n",
              "      <td>4</td>\n",
              "      <td>NÃO</td>\n",
              "    </tr>\n",
              "    <tr>\n",
              "      <th>98945</th>\n",
              "      <td>0</td>\n",
              "      <td>Vítima de Homicídio Consumado</td>\n",
              "      <td>VOLTA GRANDE</td>\n",
              "      <td>317210</td>\n",
              "      <td>8</td>\n",
              "      <td>2021</td>\n",
              "      <td>4</td>\n",
              "      <td>4</td>\n",
              "      <td>NÃO</td>\n",
              "    </tr>\n",
              "    <tr>\n",
              "      <th>98946</th>\n",
              "      <td>0</td>\n",
              "      <td>Vítima de Homicídio Consumado</td>\n",
              "      <td>WENCESLAU BRAZ</td>\n",
              "      <td>317220</td>\n",
              "      <td>8</td>\n",
              "      <td>2021</td>\n",
              "      <td>17</td>\n",
              "      <td>17</td>\n",
              "      <td>NÃO</td>\n",
              "    </tr>\n",
              "    <tr>\n",
              "      <th>98947</th>\n",
              "      <td>20</td>\n",
              "      <td>Vítima de Homicídio Consumado</td>\n",
              "      <td>BELO HORIZONTE</td>\n",
              "      <td>310620</td>\n",
              "      <td>8</td>\n",
              "      <td>2021</td>\n",
              "      <td>1</td>\n",
              "      <td>1</td>\n",
              "      <td>NÃO</td>\n",
              "    </tr>\n",
              "  </tbody>\n",
              "</table>\n",
              "</div>"
            ],
            "text/plain": [
              "       Registros                       Natureza  ... RISP Nova  RMBH\n",
              "98943          0  Vítima de Homicídio Consumado  ...         8   NÃO\n",
              "98944          1  Vítima de Homicídio Consumado  ...         4   NÃO\n",
              "98945          0  Vítima de Homicídio Consumado  ...         4   NÃO\n",
              "98946          0  Vítima de Homicídio Consumado  ...        17   NÃO\n",
              "98947         20  Vítima de Homicídio Consumado  ...         1   NÃO\n",
              "\n",
              "[5 rows x 9 columns]"
            ]
          },
          "metadata": {},
          "execution_count": 8
        }
      ]
    },
    {
      "cell_type": "code",
      "metadata": {
        "colab": {
          "base_uri": "https://localhost:8080/",
          "height": 204
        },
        "id": "Iz6MivULzI5e",
        "outputId": "76924421-215e-4831-f842-81063abfc331"
      },
      "source": [
        "outros.tail()"
      ],
      "execution_count": null,
      "outputs": [
        {
          "output_type": "execute_result",
          "data": {
            "text/html": [
              "<div>\n",
              "<style scoped>\n",
              "    .dataframe tbody tr th:only-of-type {\n",
              "        vertical-align: middle;\n",
              "    }\n",
              "\n",
              "    .dataframe tbody tr th {\n",
              "        vertical-align: top;\n",
              "    }\n",
              "\n",
              "    .dataframe thead th {\n",
              "        text-align: right;\n",
              "    }\n",
              "</style>\n",
              "<table border=\"1\" class=\"dataframe\">\n",
              "  <thead>\n",
              "    <tr style=\"text-align: right;\">\n",
              "      <th></th>\n",
              "      <th>Registros</th>\n",
              "      <th>Natureza</th>\n",
              "      <th>Município</th>\n",
              "      <th>Cod. IBGE</th>\n",
              "      <th>Mês</th>\n",
              "      <th>Ano</th>\n",
              "      <th>RISP</th>\n",
              "      <th>RISP Nova</th>\n",
              "      <th>RMBH</th>\n",
              "      <th>Unnamed: 9</th>\n",
              "    </tr>\n",
              "  </thead>\n",
              "  <tbody>\n",
              "    <tr>\n",
              "      <th>197891</th>\n",
              "      <td>5</td>\n",
              "      <td>Lesão Corporal Consumado</td>\n",
              "      <td>VIRGINOPOLIS</td>\n",
              "      <td>317180</td>\n",
              "      <td>8</td>\n",
              "      <td>2021</td>\n",
              "      <td>8</td>\n",
              "      <td>8</td>\n",
              "      <td>NÃO</td>\n",
              "      <td>NaN</td>\n",
              "    </tr>\n",
              "    <tr>\n",
              "      <th>197892</th>\n",
              "      <td>1</td>\n",
              "      <td>Lesão Corporal Consumado</td>\n",
              "      <td>VIRGOLANDIA</td>\n",
              "      <td>317190</td>\n",
              "      <td>8</td>\n",
              "      <td>2021</td>\n",
              "      <td>8</td>\n",
              "      <td>8</td>\n",
              "      <td>NÃO</td>\n",
              "      <td>NaN</td>\n",
              "    </tr>\n",
              "    <tr>\n",
              "      <th>197893</th>\n",
              "      <td>11</td>\n",
              "      <td>Lesão Corporal Consumado</td>\n",
              "      <td>VISCONDE DO RIO BRANCO</td>\n",
              "      <td>317200</td>\n",
              "      <td>8</td>\n",
              "      <td>2021</td>\n",
              "      <td>4</td>\n",
              "      <td>4</td>\n",
              "      <td>NÃO</td>\n",
              "      <td>NaN</td>\n",
              "    </tr>\n",
              "    <tr>\n",
              "      <th>197894</th>\n",
              "      <td>1</td>\n",
              "      <td>Lesão Corporal Consumado</td>\n",
              "      <td>VOLTA GRANDE</td>\n",
              "      <td>317210</td>\n",
              "      <td>8</td>\n",
              "      <td>2021</td>\n",
              "      <td>4</td>\n",
              "      <td>4</td>\n",
              "      <td>NÃO</td>\n",
              "      <td>NaN</td>\n",
              "    </tr>\n",
              "    <tr>\n",
              "      <th>197895</th>\n",
              "      <td>0</td>\n",
              "      <td>Lesão Corporal Consumado</td>\n",
              "      <td>WENCESLAU BRAZ</td>\n",
              "      <td>317220</td>\n",
              "      <td>8</td>\n",
              "      <td>2021</td>\n",
              "      <td>17</td>\n",
              "      <td>17</td>\n",
              "      <td>NÃO</td>\n",
              "      <td>NaN</td>\n",
              "    </tr>\n",
              "  </tbody>\n",
              "</table>\n",
              "</div>"
            ],
            "text/plain": [
              "        Registros                  Natureza  ... RMBH  Unnamed: 9\n",
              "197891          5  Lesão Corporal Consumado  ...  NÃO         NaN\n",
              "197892          1  Lesão Corporal Consumado  ...  NÃO         NaN\n",
              "197893         11  Lesão Corporal Consumado  ...  NÃO         NaN\n",
              "197894          1  Lesão Corporal Consumado  ...  NÃO         NaN\n",
              "197895          0  Lesão Corporal Consumado  ...  NÃO         NaN\n",
              "\n",
              "[5 rows x 10 columns]"
            ]
          },
          "metadata": {},
          "execution_count": 9
        }
      ]
    },
    {
      "cell_type": "code",
      "metadata": {
        "colab": {
          "base_uri": "https://localhost:8080/",
          "height": 204
        },
        "id": "_z87tHRYzcxe",
        "outputId": "d97674f8-e889-4479-8ae6-8a726f9ef14e"
      },
      "source": [
        "roubo_geral.tail()"
      ],
      "execution_count": null,
      "outputs": [
        {
          "output_type": "execute_result",
          "data": {
            "text/html": [
              "<div>\n",
              "<style scoped>\n",
              "    .dataframe tbody tr th:only-of-type {\n",
              "        vertical-align: middle;\n",
              "    }\n",
              "\n",
              "    .dataframe tbody tr th {\n",
              "        vertical-align: top;\n",
              "    }\n",
              "\n",
              "    .dataframe thead th {\n",
              "        text-align: right;\n",
              "    }\n",
              "</style>\n",
              "<table border=\"1\" class=\"dataframe\">\n",
              "  <thead>\n",
              "    <tr style=\"text-align: right;\">\n",
              "      <th></th>\n",
              "      <th>Registros</th>\n",
              "      <th>Natureza</th>\n",
              "      <th>Alvos</th>\n",
              "      <th>Município</th>\n",
              "      <th>Cod IBGE</th>\n",
              "      <th>Mês</th>\n",
              "      <th>Ano</th>\n",
              "      <th>RISP</th>\n",
              "      <th>RISP Nova</th>\n",
              "      <th>RMBH</th>\n",
              "    </tr>\n",
              "  </thead>\n",
              "  <tbody>\n",
              "    <tr>\n",
              "      <th>341195</th>\n",
              "      <td>0</td>\n",
              "      <td>Roubo</td>\n",
              "      <td>Transporte Coletivo</td>\n",
              "      <td>VIRGINOPOLIS</td>\n",
              "      <td>317180</td>\n",
              "      <td>8</td>\n",
              "      <td>2021</td>\n",
              "      <td>8</td>\n",
              "      <td>8</td>\n",
              "      <td>NÃO</td>\n",
              "    </tr>\n",
              "    <tr>\n",
              "      <th>341196</th>\n",
              "      <td>0</td>\n",
              "      <td>Roubo</td>\n",
              "      <td>Transporte Coletivo</td>\n",
              "      <td>VIRGOLANDIA</td>\n",
              "      <td>317190</td>\n",
              "      <td>8</td>\n",
              "      <td>2021</td>\n",
              "      <td>8</td>\n",
              "      <td>8</td>\n",
              "      <td>NÃO</td>\n",
              "    </tr>\n",
              "    <tr>\n",
              "      <th>341197</th>\n",
              "      <td>0</td>\n",
              "      <td>Roubo</td>\n",
              "      <td>Transporte Coletivo</td>\n",
              "      <td>VISCONDE DO RIO BRANCO</td>\n",
              "      <td>317200</td>\n",
              "      <td>8</td>\n",
              "      <td>2021</td>\n",
              "      <td>4</td>\n",
              "      <td>4</td>\n",
              "      <td>NÃO</td>\n",
              "    </tr>\n",
              "    <tr>\n",
              "      <th>341198</th>\n",
              "      <td>0</td>\n",
              "      <td>Roubo</td>\n",
              "      <td>Transporte Coletivo</td>\n",
              "      <td>VOLTA GRANDE</td>\n",
              "      <td>317210</td>\n",
              "      <td>8</td>\n",
              "      <td>2021</td>\n",
              "      <td>4</td>\n",
              "      <td>4</td>\n",
              "      <td>NÃO</td>\n",
              "    </tr>\n",
              "    <tr>\n",
              "      <th>341199</th>\n",
              "      <td>0</td>\n",
              "      <td>Roubo</td>\n",
              "      <td>Transporte Coletivo</td>\n",
              "      <td>WENCESLAU BRAZ</td>\n",
              "      <td>317220</td>\n",
              "      <td>8</td>\n",
              "      <td>2021</td>\n",
              "      <td>17</td>\n",
              "      <td>17</td>\n",
              "      <td>NÃO</td>\n",
              "    </tr>\n",
              "  </tbody>\n",
              "</table>\n",
              "</div>"
            ],
            "text/plain": [
              "        Registros Natureza                Alvos  ... RISP  RISP Nova  RMBH\n",
              "341195          0    Roubo  Transporte Coletivo  ...    8          8   NÃO\n",
              "341196          0    Roubo  Transporte Coletivo  ...    8          8   NÃO\n",
              "341197          0    Roubo  Transporte Coletivo  ...    4          4   NÃO\n",
              "341198          0    Roubo  Transporte Coletivo  ...    4          4   NÃO\n",
              "341199          0    Roubo  Transporte Coletivo  ...   17         17   NÃO\n",
              "\n",
              "[5 rows x 10 columns]"
            ]
          },
          "metadata": {},
          "execution_count": 10
        }
      ]
    },
    {
      "cell_type": "code",
      "metadata": {
        "colab": {
          "base_uri": "https://localhost:8080/",
          "height": 204
        },
        "id": "N3roclfgzV5u",
        "outputId": "70160791-1b4d-4e26-d94a-98b79665904e"
      },
      "source": [
        "roubo_carro.head()"
      ],
      "execution_count": null,
      "outputs": [
        {
          "output_type": "execute_result",
          "data": {
            "text/html": [
              "<div>\n",
              "<style scoped>\n",
              "    .dataframe tbody tr th:only-of-type {\n",
              "        vertical-align: middle;\n",
              "    }\n",
              "\n",
              "    .dataframe tbody tr th {\n",
              "        vertical-align: top;\n",
              "    }\n",
              "\n",
              "    .dataframe thead th {\n",
              "        text-align: right;\n",
              "    }\n",
              "</style>\n",
              "<table border=\"1\" class=\"dataframe\">\n",
              "  <thead>\n",
              "    <tr style=\"text-align: right;\">\n",
              "      <th></th>\n",
              "      <th>Registros</th>\n",
              "      <th>Natureza</th>\n",
              "      <th>Alvos</th>\n",
              "      <th>Município</th>\n",
              "      <th>Cod IBGE</th>\n",
              "      <th>Mês</th>\n",
              "      <th>Ano</th>\n",
              "      <th>RISP</th>\n",
              "      <th>RISP Nova</th>\n",
              "      <th>RMBH</th>\n",
              "    </tr>\n",
              "  </thead>\n",
              "  <tbody>\n",
              "    <tr>\n",
              "      <th>0</th>\n",
              "      <td>0</td>\n",
              "      <td>Roubo</td>\n",
              "      <td>Veículos</td>\n",
              "      <td>ABADIA DOS DOURADOS</td>\n",
              "      <td>310010</td>\n",
              "      <td>1</td>\n",
              "      <td>2015</td>\n",
              "      <td>10</td>\n",
              "      <td>10</td>\n",
              "      <td>NÃO</td>\n",
              "    </tr>\n",
              "    <tr>\n",
              "      <th>1</th>\n",
              "      <td>1</td>\n",
              "      <td>Roubo</td>\n",
              "      <td>Veículos</td>\n",
              "      <td>ABAETE</td>\n",
              "      <td>310020</td>\n",
              "      <td>1</td>\n",
              "      <td>2015</td>\n",
              "      <td>7</td>\n",
              "      <td>7</td>\n",
              "      <td>NÃO</td>\n",
              "    </tr>\n",
              "    <tr>\n",
              "      <th>2</th>\n",
              "      <td>0</td>\n",
              "      <td>Roubo</td>\n",
              "      <td>Veículos</td>\n",
              "      <td>ABRE-CAMPO</td>\n",
              "      <td>310030</td>\n",
              "      <td>1</td>\n",
              "      <td>2015</td>\n",
              "      <td>12</td>\n",
              "      <td>12</td>\n",
              "      <td>NÃO</td>\n",
              "    </tr>\n",
              "    <tr>\n",
              "      <th>3</th>\n",
              "      <td>0</td>\n",
              "      <td>Roubo</td>\n",
              "      <td>Veículos</td>\n",
              "      <td>ACAIACA</td>\n",
              "      <td>310040</td>\n",
              "      <td>1</td>\n",
              "      <td>2015</td>\n",
              "      <td>12</td>\n",
              "      <td>12</td>\n",
              "      <td>NÃO</td>\n",
              "    </tr>\n",
              "    <tr>\n",
              "      <th>4</th>\n",
              "      <td>0</td>\n",
              "      <td>Roubo</td>\n",
              "      <td>Veículos</td>\n",
              "      <td>ACUCENA</td>\n",
              "      <td>310050</td>\n",
              "      <td>1</td>\n",
              "      <td>2015</td>\n",
              "      <td>12</td>\n",
              "      <td>12</td>\n",
              "      <td>NÃO</td>\n",
              "    </tr>\n",
              "  </tbody>\n",
              "</table>\n",
              "</div>"
            ],
            "text/plain": [
              "   Registros Natureza     Alvos  ... RISP  RISP Nova  RMBH\n",
              "0          0    Roubo  Veículos  ...   10         10   NÃO\n",
              "1          1    Roubo  Veículos  ...    7          7   NÃO\n",
              "2          0    Roubo  Veículos  ...   12         12   NÃO\n",
              "3          0    Roubo  Veículos  ...   12         12   NÃO\n",
              "4          0    Roubo  Veículos  ...   12         12   NÃO\n",
              "\n",
              "[5 rows x 10 columns]"
            ]
          },
          "metadata": {},
          "execution_count": 11
        }
      ]
    },
    {
      "cell_type": "code",
      "metadata": {
        "colab": {
          "base_uri": "https://localhost:8080/",
          "height": 204
        },
        "id": "zfV4qaCa1Jsl",
        "outputId": "263b3fb7-d1da-4b00-d310-57fafeef88de"
      },
      "source": [
        "#furto_carro.dropna(axis='columns')\n",
        "furto_carro.head()"
      ],
      "execution_count": null,
      "outputs": [
        {
          "output_type": "execute_result",
          "data": {
            "text/html": [
              "<div>\n",
              "<style scoped>\n",
              "    .dataframe tbody tr th:only-of-type {\n",
              "        vertical-align: middle;\n",
              "    }\n",
              "\n",
              "    .dataframe tbody tr th {\n",
              "        vertical-align: top;\n",
              "    }\n",
              "\n",
              "    .dataframe thead th {\n",
              "        text-align: right;\n",
              "    }\n",
              "</style>\n",
              "<table border=\"1\" class=\"dataframe\">\n",
              "  <thead>\n",
              "    <tr style=\"text-align: right;\">\n",
              "      <th></th>\n",
              "      <th>Registros</th>\n",
              "      <th>Natureza</th>\n",
              "      <th>Alvos</th>\n",
              "      <th>Município</th>\n",
              "      <th>Cod IBGE</th>\n",
              "      <th>Mês</th>\n",
              "      <th>Ano</th>\n",
              "      <th>RISP</th>\n",
              "      <th>RISP Nova</th>\n",
              "      <th>RMBH</th>\n",
              "    </tr>\n",
              "  </thead>\n",
              "  <tbody>\n",
              "    <tr>\n",
              "      <th>0</th>\n",
              "      <td>1</td>\n",
              "      <td>Furto</td>\n",
              "      <td>Veículos</td>\n",
              "      <td>ABADIA DOS DOURADOS</td>\n",
              "      <td>310010</td>\n",
              "      <td>1</td>\n",
              "      <td>2015</td>\n",
              "      <td>10</td>\n",
              "      <td>10</td>\n",
              "      <td>NÃO</td>\n",
              "    </tr>\n",
              "    <tr>\n",
              "      <th>1</th>\n",
              "      <td>1</td>\n",
              "      <td>Furto</td>\n",
              "      <td>Veículos</td>\n",
              "      <td>ABAETE</td>\n",
              "      <td>310020</td>\n",
              "      <td>1</td>\n",
              "      <td>2015</td>\n",
              "      <td>7</td>\n",
              "      <td>7</td>\n",
              "      <td>NÃO</td>\n",
              "    </tr>\n",
              "    <tr>\n",
              "      <th>2</th>\n",
              "      <td>0</td>\n",
              "      <td>Furto</td>\n",
              "      <td>Veículos</td>\n",
              "      <td>ABRE-CAMPO</td>\n",
              "      <td>310030</td>\n",
              "      <td>1</td>\n",
              "      <td>2015</td>\n",
              "      <td>12</td>\n",
              "      <td>12</td>\n",
              "      <td>NÃO</td>\n",
              "    </tr>\n",
              "    <tr>\n",
              "      <th>3</th>\n",
              "      <td>0</td>\n",
              "      <td>Furto</td>\n",
              "      <td>Veículos</td>\n",
              "      <td>ACAIACA</td>\n",
              "      <td>310040</td>\n",
              "      <td>1</td>\n",
              "      <td>2015</td>\n",
              "      <td>12</td>\n",
              "      <td>12</td>\n",
              "      <td>NÃO</td>\n",
              "    </tr>\n",
              "    <tr>\n",
              "      <th>4</th>\n",
              "      <td>0</td>\n",
              "      <td>Furto</td>\n",
              "      <td>Veículos</td>\n",
              "      <td>ACUCENA</td>\n",
              "      <td>310050</td>\n",
              "      <td>1</td>\n",
              "      <td>2015</td>\n",
              "      <td>12</td>\n",
              "      <td>12</td>\n",
              "      <td>NÃO</td>\n",
              "    </tr>\n",
              "  </tbody>\n",
              "</table>\n",
              "</div>"
            ],
            "text/plain": [
              "   Registros Natureza     Alvos  ... RISP  RISP Nova  RMBH\n",
              "0          1    Furto  Veículos  ...   10         10   NÃO\n",
              "1          1    Furto  Veículos  ...    7          7   NÃO\n",
              "2          0    Furto  Veículos  ...   12         12   NÃO\n",
              "3          0    Furto  Veículos  ...   12         12   NÃO\n",
              "4          0    Furto  Veículos  ...   12         12   NÃO\n",
              "\n",
              "[5 rows x 10 columns]"
            ]
          },
          "metadata": {},
          "execution_count": 12
        }
      ]
    },
    {
      "cell_type": "markdown",
      "metadata": {
        "id": "We8HMVew4_vF"
      },
      "source": [
        "#Limpeza de dados\n",
        "Removendo as linhas e colunas que não estão totalmente preenchidas da tabela"
      ]
    },
    {
      "cell_type": "code",
      "metadata": {
        "id": "2XpwEfG32EzH"
      },
      "source": [
        "furto_carro = furto_carro.dropna(how='all')"
      ],
      "execution_count": null,
      "outputs": []
    },
    {
      "cell_type": "code",
      "metadata": {
        "id": "ZCHgwS9v4Tun"
      },
      "source": [
        "furto_carro = furto_carro.dropna(how='all', axis='columns')"
      ],
      "execution_count": null,
      "outputs": []
    },
    {
      "cell_type": "code",
      "metadata": {
        "id": "0u4u6GiD4gt0"
      },
      "source": [
        "outros = outros.dropna(how='all', axis='columns')"
      ],
      "execution_count": null,
      "outputs": []
    },
    {
      "cell_type": "code",
      "metadata": {
        "colab": {
          "base_uri": "https://localhost:8080/",
          "height": 204
        },
        "id": "JXaAEkyD10Vn",
        "outputId": "fdf43ae6-c86d-41e0-8d82-c0480eb9b50c"
      },
      "source": [
        "furto_carro.tail()"
      ],
      "execution_count": null,
      "outputs": [
        {
          "output_type": "execute_result",
          "data": {
            "text/html": [
              "<div>\n",
              "<style scoped>\n",
              "    .dataframe tbody tr th:only-of-type {\n",
              "        vertical-align: middle;\n",
              "    }\n",
              "\n",
              "    .dataframe tbody tr th {\n",
              "        vertical-align: top;\n",
              "    }\n",
              "\n",
              "    .dataframe thead th {\n",
              "        text-align: right;\n",
              "    }\n",
              "</style>\n",
              "<table border=\"1\" class=\"dataframe\">\n",
              "  <thead>\n",
              "    <tr style=\"text-align: right;\">\n",
              "      <th></th>\n",
              "      <th>Registros</th>\n",
              "      <th>Natureza</th>\n",
              "      <th>Alvos</th>\n",
              "      <th>Município</th>\n",
              "      <th>Cod IBGE</th>\n",
              "      <th>Mês</th>\n",
              "      <th>Ano</th>\n",
              "      <th>RISP</th>\n",
              "      <th>RISP Nova</th>\n",
              "      <th>RMBH</th>\n",
              "    </tr>\n",
              "  </thead>\n",
              "  <tbody>\n",
              "    <tr>\n",
              "      <th>68235</th>\n",
              "      <td>0</td>\n",
              "      <td>Furto</td>\n",
              "      <td>Veículos</td>\n",
              "      <td>VIRGINOPOLIS</td>\n",
              "      <td>317180</td>\n",
              "      <td>8</td>\n",
              "      <td>2021</td>\n",
              "      <td>8</td>\n",
              "      <td>8</td>\n",
              "      <td>NÃO</td>\n",
              "    </tr>\n",
              "    <tr>\n",
              "      <th>68236</th>\n",
              "      <td>0</td>\n",
              "      <td>Furto</td>\n",
              "      <td>Veículos</td>\n",
              "      <td>VIRGOLANDIA</td>\n",
              "      <td>317190</td>\n",
              "      <td>8</td>\n",
              "      <td>2021</td>\n",
              "      <td>8</td>\n",
              "      <td>8</td>\n",
              "      <td>NÃO</td>\n",
              "    </tr>\n",
              "    <tr>\n",
              "      <th>68237</th>\n",
              "      <td>3</td>\n",
              "      <td>Furto</td>\n",
              "      <td>Veículos</td>\n",
              "      <td>VISCONDE DO RIO BRANCO</td>\n",
              "      <td>317200</td>\n",
              "      <td>8</td>\n",
              "      <td>2021</td>\n",
              "      <td>4</td>\n",
              "      <td>4</td>\n",
              "      <td>NÃO</td>\n",
              "    </tr>\n",
              "    <tr>\n",
              "      <th>68238</th>\n",
              "      <td>0</td>\n",
              "      <td>Furto</td>\n",
              "      <td>Veículos</td>\n",
              "      <td>VOLTA GRANDE</td>\n",
              "      <td>317210</td>\n",
              "      <td>8</td>\n",
              "      <td>2021</td>\n",
              "      <td>4</td>\n",
              "      <td>4</td>\n",
              "      <td>NÃO</td>\n",
              "    </tr>\n",
              "    <tr>\n",
              "      <th>68239</th>\n",
              "      <td>0</td>\n",
              "      <td>Furto</td>\n",
              "      <td>Veículos</td>\n",
              "      <td>WENCESLAU BRAZ</td>\n",
              "      <td>317220</td>\n",
              "      <td>8</td>\n",
              "      <td>2021</td>\n",
              "      <td>17</td>\n",
              "      <td>17</td>\n",
              "      <td>NÃO</td>\n",
              "    </tr>\n",
              "  </tbody>\n",
              "</table>\n",
              "</div>"
            ],
            "text/plain": [
              "       Registros Natureza     Alvos  ... RISP  RISP Nova  RMBH\n",
              "68235          0    Furto  Veículos  ...    8          8   NÃO\n",
              "68236          0    Furto  Veículos  ...    8          8   NÃO\n",
              "68237          3    Furto  Veículos  ...    4          4   NÃO\n",
              "68238          0    Furto  Veículos  ...    4          4   NÃO\n",
              "68239          0    Furto  Veículos  ...   17         17   NÃO\n",
              "\n",
              "[5 rows x 10 columns]"
            ]
          },
          "metadata": {},
          "execution_count": 16
        }
      ]
    },
    {
      "cell_type": "code",
      "metadata": {
        "id": "wkIu9H294mS-"
      },
      "source": [
        "furto_geral = furto_geral.dropna(how='all')"
      ],
      "execution_count": null,
      "outputs": []
    },
    {
      "cell_type": "markdown",
      "metadata": {
        "id": "UbxGy06L46UU"
      },
      "source": [
        "# *Análise* inicial"
      ]
    },
    {
      "cell_type": "markdown",
      "metadata": {
        "id": "5UR3uyiWOJUx"
      },
      "source": [
        "# Análise de furtos de carros\n",
        "Área do projeto dedicada a análise do dataset sobre furtos de carros. Serão realizadas as seguintes tarefas:\n",
        "\n",
        "*   Análise de furtos de automóveis no periodo de um ano\n",
        "*   Análise de furtos no período de um mês\n",
        "*   Comparação da quantidade de furtos no estado com a capital Belo Horizonte\n",
        "*  Cidades com maiores e menores índices de furtos\n",
        "\n",
        "\n",
        "\n",
        "\n",
        "\n"
      ]
    },
    {
      "cell_type": "code",
      "metadata": {
        "id": "mdJfucdENqSx"
      },
      "source": [
        "#Renomeando a variável Mês\n",
        "furto_carro = furto_carro.rename(columns={furto_carro.columns[5]: 'Mês'})"
      ],
      "execution_count": null,
      "outputs": []
    },
    {
      "cell_type": "markdown",
      "metadata": {
        "id": "RdBiY80ER9mY"
      },
      "source": [
        "Evolução dos furtos no estado a cada ano"
      ]
    },
    {
      "cell_type": "code",
      "metadata": {
        "colab": {
          "base_uri": "https://localhost:8080/"
        },
        "id": "1bSkvaWFRr5h",
        "outputId": "2b7ac164-9023-4555-f125-f48925b2c07b"
      },
      "source": [
        "furto_carro.groupby(['Ano'])['Registros'].sum()"
      ],
      "execution_count": null,
      "outputs": [
        {
          "output_type": "execute_result",
          "data": {
            "text/plain": [
              "Ano\n",
              "2015    31656\n",
              "2016    34265\n",
              "2017    31661\n",
              "2018    25854\n",
              "2019    23675\n",
              "2020    20138\n",
              "2021    12187\n",
              "Name: Registros, dtype: int64"
            ]
          },
          "metadata": {},
          "execution_count": 43
        }
      ]
    },
    {
      "cell_type": "code",
      "metadata": {
        "colab": {
          "base_uri": "https://localhost:8080/",
          "height": 297
        },
        "id": "kc7mgNyZS3KI",
        "outputId": "10677a19-abdf-4d2d-ea18-3e1b544308a3"
      },
      "source": [
        "furto_carro.groupby(['Ano'])['Registros'].sum().plot()"
      ],
      "execution_count": null,
      "outputs": [
        {
          "output_type": "execute_result",
          "data": {
            "text/plain": [
              "<matplotlib.axes._subplots.AxesSubplot at 0x7f2a60842650>"
            ]
          },
          "metadata": {},
          "execution_count": 45
        },
        {
          "output_type": "display_data",
          "data": {
            "image/png": "[encoded data removed]",
            "text/plain": [
              "<Figure size 432x288 with 1 Axes>"
            ]
          },
          "metadata": {
            "needs_background": "light"
          }
        }
      ]
    },
    {
      "cell_type": "code",
      "metadata": {
        "colab": {
          "base_uri": "https://localhost:8080/",
          "height": 296
        },
        "id": "ZPV6EVxXSGO_",
        "outputId": "85336bcd-f5c9-4772-d2bd-ec476cb2b1f4"
      },
      "source": [
        "furto_carro.groupby(['Ano','Mês'])['Registros'].sum().plot()"
      ],
      "execution_count": null,
      "outputs": [
        {
          "output_type": "execute_result",
          "data": {
            "text/plain": [
              "<matplotlib.axes._subplots.AxesSubplot at 0x7f2a607b1f90>"
            ]
          },
          "metadata": {},
          "execution_count": 49
        },
        {
          "output_type": "display_data",
          "data": {
            "image/png": "[encoded data removed]",
            "text/plain": [
              "<Figure size 432x288 with 1 Axes>"
            ]
          },
          "metadata": {
            "needs_background": "light"
          }
        }
      ]
    },
    {
      "cell_type": "markdown",
      "metadata": {
        "id": "0oipxy0Ap3-x"
      },
      "source": [
        "### Furtos de veículos na capital Belo Horizonte"
      ]
    },
    {
      "cell_type": "code",
      "metadata": {
        "id": "FtF_uM3hUsSP"
      },
      "source": [
        "furto_BH = furto_carro[furto_carro['Município']=='BELO HORIZONTE']\n"
      ],
      "execution_count": 75,
      "outputs": []
    },
    {
      "cell_type": "code",
      "metadata": {
        "colab": {
          "base_uri": "https://localhost:8080/",
          "height": 296
        },
        "id": "Xej3jMkEmHxk",
        "outputId": "11f62411-9ada-4711-f8d7-1524db783679"
      },
      "source": [
        "furto_BH.groupby(['Ano'])['Registros'].sum().plot()"
      ],
      "execution_count": 76,
      "outputs": [
        {
          "output_type": "execute_result",
          "data": {
            "text/plain": [
              "<matplotlib.axes._subplots.AxesSubplot at 0x7f2a5ff1b310>"
            ]
          },
          "metadata": {},
          "execution_count": 76
        },
        {
          "output_type": "display_data",
          "data": {
            "image/png": "[encoded data removed]",
            "text/plain": [
              "<Figure size 432x288 with 1 Axes>"
            ]
          },
          "metadata": {
            "needs_background": "light"
          }
        }
      ]
    },
    {
      "cell_type": "code",
      "metadata": {
        "colab": {
          "base_uri": "https://localhost:8080/",
          "height": 296
        },
        "id": "hwdWktUMmKqL",
        "outputId": "c293c563-13bd-46ef-cafb-60cc94a9807c"
      },
      "source": [
        "furto_BH = furto_BH.rename(columns={furto_BH.columns[5]: 'Mês'})\n",
        "furto_BH.groupby(['Ano','Mês'])['Registros'].sum().plot()"
      ],
      "execution_count": 78,
      "outputs": [
        {
          "output_type": "execute_result",
          "data": {
            "text/plain": [
              "<matplotlib.axes._subplots.AxesSubplot at 0x7f2a5fe98210>"
            ]
          },
          "metadata": {},
          "execution_count": 78
        },
        {
          "output_type": "display_data",
          "data": {
            "image/png": "[encoded data removed]",
            "text/plain": [
              "<Figure size 432x288 with 1 Axes>"
            ]
          },
          "metadata": {
            "needs_background": "light"
          }
        }
      ]
    },
    {
      "cell_type": "code",
      "metadata": {
        "id": "Qmzr2Ozd64Ct",
        "colab": {
          "base_uri": "https://localhost:8080/"
        },
        "outputId": "080c52d3-0dc4-455e-d45d-39a23d44e600"
      },
      "source": [
        "furto_carro.groupby(['Município','Ano'])['Registros'].sum()"
      ],
      "execution_count": 72,
      "outputs": [
        {
          "output_type": "execute_result",
          "data": {
            "text/plain": [
              "Município            Ano \n",
              "ABADIA DOS DOURADOS  2015     7\n",
              "                     2016     2\n",
              "                     2017    12\n",
              "                     2018     7\n",
              "                     2019     3\n",
              "                             ..\n",
              "WENCESLAU BRAZ       2017     1\n",
              "                     2018     0\n",
              "                     2019     0\n",
              "                     2020     0\n",
              "                     2021     0\n",
              "Name: Registros, Length: 5971, dtype: int64"
            ]
          },
          "metadata": {},
          "execution_count": 72
        }
      ]
    },
    {
      "cell_type": "code",
      "metadata": {
        "colab": {
          "base_uri": "https://localhost:8080/"
        },
        "id": "4nA3yAQgNIq6",
        "outputId": "0833817d-3d66-4b17-f778-9e3f85b78f11"
      },
      "source": [
        "furto_carro.groupby(['Município','Ano'])['Registros'].count()"
      ],
      "execution_count": null,
      "outputs": [
        {
          "output_type": "execute_result",
          "data": {
            "text/plain": [
              "Município            Ano \n",
              "ABADIA DOS DOURADOS  2015    12\n",
              "                     2016    12\n",
              "                     2017    12\n",
              "                     2018    12\n",
              "                     2019    12\n",
              "                             ..\n",
              "WENCESLAU BRAZ       2017    12\n",
              "                     2018    12\n",
              "                     2019    12\n",
              "                     2020    12\n",
              "                     2021     8\n",
              "Name: Registros, Length: 5971, dtype: int64"
            ]
          },
          "metadata": {},
          "execution_count": 31
        }
      ]
    },
    {
      "cell_type": "code",
      "metadata": {
        "colab": {
          "base_uri": "https://localhost:8080/"
        },
        "id": "qlyWqKnGQQi7",
        "outputId": "9042ac0c-dcd6-474d-e0c3-478bb297559f"
      },
      "source": [
        "furto_carro.groupby(['Município'])['Registros'].count()"
      ],
      "execution_count": null,
      "outputs": [
        {
          "output_type": "execute_result",
          "data": {
            "text/plain": [
              "Município\n",
              "ABADIA DOS DOURADOS       80\n",
              "ABAETE                    80\n",
              "ABRE-CAMPO                80\n",
              "ACAIACA                   80\n",
              "ACUCENA                   80\n",
              "                          ..\n",
              "VIRGINOPOLIS              80\n",
              "VIRGOLANDIA               80\n",
              "VISCONDE DO RIO BRANCO    80\n",
              "VOLTA GRANDE              80\n",
              "WENCESLAU BRAZ            80\n",
              "Name: Registros, Length: 853, dtype: int64"
            ]
          },
          "metadata": {},
          "execution_count": 37
        }
      ]
    }
  ]
}