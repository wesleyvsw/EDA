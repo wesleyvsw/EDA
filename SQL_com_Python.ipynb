{
  "nbformat": 4,
  "nbformat_minor": 0,
  "metadata": {
    "colab": {
      "name": "SQL com Python",
      "provenance": [],
      "authorship_tag": "ABX9TyPXt4X4mOtHEYLqcm4uL0S6"
    },
    "kernelspec": {
      "name": "python3",
      "display_name": "Python 3"
    },
    "language_info": {
      "name": "python"
    }
  },
  "cells": [
    {
      "cell_type": "markdown",
      "source": [
        "# Pyhton com SQL\n",
        "Práticas de SQL com Python"
      ],
      "metadata": {
        "id": "t_WTl0LWKLl7"
      }
    },
    {
      "cell_type": "code",
      "execution_count": 1,
      "metadata": {
        "id": "N-78FaVnKAai"
      },
      "outputs": [],
      "source": [
        "#importando a biblioteca para manipulação do banco de dados\n",
        "import sqlite3"
      ]
    },
    {
      "cell_type": "code",
      "source": [
        "#Criando a conexão com a base de dados\n",
        "conexao = sqlite3.connect(\"Banco_Dados\")"
      ],
      "metadata": {
        "id": "lRTa26b_L13P"
      },
      "execution_count": 2,
      "outputs": []
    },
    {
      "cell_type": "code",
      "source": [
        "#Apontar para o banco\n",
        "#sempre utilizaremos o cursor para realizar as queries\n",
        "cursor = conexao.cursor()"
      ],
      "metadata": {
        "id": "vAHBAk__MEQg"
      },
      "execution_count": 3,
      "outputs": []
    },
    {
      "cell_type": "code",
      "source": [
        "#Criando uma tabela\n",
        "cursor.execute(\n",
        "    'CREATE TABLE Minha_Tabela(Data text,Nome text,Idade real)'\n",
        ")\n",
        "#Fazer um commit\n",
        "conexao.commit()"
      ],
      "metadata": {
        "id": "t6Ulnu38M4vs"
      },
      "execution_count": 4,
      "outputs": []
    },
    {
      "cell_type": "markdown",
      "source": [
        "INSERT INTO"
      ],
      "metadata": {
        "id": "1b602_WHN3RV"
      }
    },
    {
      "cell_type": "code",
      "source": [
        "cursor.execute('INSERT INTO Minha_Tabela VALUES (\"01/01/2021\",\"Wesley\",\"27\")')"
      ],
      "metadata": {
        "colab": {
          "base_uri": "https://localhost:8080/"
        },
        "id": "VfGta7yTN5X-",
        "outputId": "47b559f3-f007-4a72-f38f-a10e9f9ecfdd"
      },
      "execution_count": 5,
      "outputs": [
        {
          "output_type": "execute_result",
          "data": {
            "text/plain": [
              "<sqlite3.Cursor at 0x7f56751eace0>"
            ]
          },
          "metadata": {},
          "execution_count": 5
        }
      ]
    },
    {
      "cell_type": "code",
      "source": [
        "#importando random\n",
        "import random"
      ],
      "metadata": {
        "id": "eS2_VNiNOgIg"
      },
      "execution_count": 6,
      "outputs": []
    },
    {
      "cell_type": "code",
      "source": [
        "random.randint(10,20)"
      ],
      "metadata": {
        "colab": {
          "base_uri": "https://localhost:8080/"
        },
        "id": "qhMRn0LrOuGH",
        "outputId": "2b2d91bd-5d45-407f-934d-c591697f5afa"
      },
      "execution_count": 7,
      "outputs": [
        {
          "output_type": "execute_result",
          "data": {
            "text/plain": [
              "10"
            ]
          },
          "metadata": {},
          "execution_count": 7
        }
      ]
    },
    {
      "cell_type": "code",
      "source": [
        "for loop in range(10):\n",
        "  numero = random.randint(10,20)\n",
        "  cursor.execute(f'INSERT INTO Minha_Tabela VALUES (\"01/01/2021\",\"Wesley\", {numero} )')"
      ],
      "metadata": {
        "id": "sEtxuGOJPGX8"
      },
      "execution_count": 8,
      "outputs": []
    },
    {
      "cell_type": "markdown",
      "source": [
        "## SELECT"
      ],
      "metadata": {
        "id": "eLQ1HBxWvKgQ"
      }
    },
    {
      "cell_type": "code",
      "source": [
        "consulta = cursor.execute('SELECT * FROM Minha_Tabela').fetchall()\n",
        "print(consulta)"
      ],
      "metadata": {
        "colab": {
          "base_uri": "https://localhost:8080/"
        },
        "id": "iC29KIA4pcp8",
        "outputId": "39dfa2d2-934d-4aa9-b877-5bd8c5dca571"
      },
      "execution_count": 9,
      "outputs": [
        {
          "output_type": "stream",
          "name": "stdout",
          "text": [
            "[('01/01/2021', 'Wesley', 27.0), ('01/01/2021', 'Wesley', 18.0), ('01/01/2021', 'Wesley', 13.0), ('01/01/2021', 'Wesley', 15.0), ('01/01/2021', 'Wesley', 11.0), ('01/01/2021', 'Wesley', 20.0), ('01/01/2021', 'Wesley', 20.0), ('01/01/2021', 'Wesley', 15.0), ('01/01/2021', 'Wesley', 11.0), ('01/01/2021', 'Wesley', 17.0), ('01/01/2021', 'Wesley', 17.0)]\n"
          ]
        }
      ]
    },
    {
      "cell_type": "code",
      "source": [
        "consulta2 = cursor.execute('SELECT Nome,Idade FROM Minha_Tabela').fetchall()\n",
        "for linha in consulta2:\n",
        "  print(linha)"
      ],
      "metadata": {
        "colab": {
          "base_uri": "https://localhost:8080/"
        },
        "id": "3pf4ZQu0uNrp",
        "outputId": "94059947-c884-4556-c65d-7e6ccea88b35"
      },
      "execution_count": 10,
      "outputs": [
        {
          "output_type": "stream",
          "name": "stdout",
          "text": [
            "('Wesley', 27.0)\n",
            "('Wesley', 18.0)\n",
            "('Wesley', 13.0)\n",
            "('Wesley', 15.0)\n",
            "('Wesley', 11.0)\n",
            "('Wesley', 20.0)\n",
            "('Wesley', 20.0)\n",
            "('Wesley', 15.0)\n",
            "('Wesley', 11.0)\n",
            "('Wesley', 17.0)\n",
            "('Wesley', 17.0)\n"
          ]
        }
      ]
    },
    {
      "cell_type": "code",
      "source": [
        "consulta3 = cursor.execute('''\n",
        "SELECT * FROM Minha_Tabela\n",
        "Where Nome = 'Pedro'\n",
        "''').fetchall()\n",
        "print(consulta3)"
      ],
      "metadata": {
        "colab": {
          "base_uri": "https://localhost:8080/"
        },
        "id": "rt_kW_ukvIdQ",
        "outputId": "7ac2ceab-a7b6-4089-fa11-c1cf52b6987a"
      },
      "execution_count": null,
      "outputs": [
        {
          "output_type": "stream",
          "name": "stdout",
          "text": [
            "[]\n"
          ]
        }
      ]
    },
    {
      "cell_type": "code",
      "source": [
        "consulta4 = cursor.execute('''\n",
        "SELECT * FROM Minha_Tabela\n",
        "Where Idade > 25\n",
        "''').fetchall()\n",
        "print(consulta4)"
      ],
      "metadata": {
        "colab": {
          "base_uri": "https://localhost:8080/"
        },
        "id": "tCoieNbIwDY1",
        "outputId": "739ca999-b8e0-4871-b4e8-368c0da8f0b3"
      },
      "execution_count": 11,
      "outputs": [
        {
          "output_type": "stream",
          "name": "stdout",
          "text": [
            "[('01/01/2021', 'Wesley', 27.0)]\n"
          ]
        }
      ]
    },
    {
      "cell_type": "code",
      "source": [
        "#BETWEEN\n",
        "consulta5 = cursor.execute('''\n",
        "SELECT * FROM Minha_Tabela\n",
        "Where Idade  BETWEEN 15 AND 30\n",
        "''').fetchall()\n",
        "for Linha in consulta5:\n",
        "  print(Linha)"
      ],
      "metadata": {
        "colab": {
          "base_uri": "https://localhost:8080/"
        },
        "id": "ighUWWtjwRgF",
        "outputId": "21c68519-7a9e-4de8-b362-abaf83930fd9"
      },
      "execution_count": 12,
      "outputs": [
        {
          "output_type": "stream",
          "name": "stdout",
          "text": [
            "('01/01/2021', 'Wesley', 27.0)\n",
            "('01/01/2021', 'Wesley', 18.0)\n",
            "('01/01/2021', 'Wesley', 15.0)\n",
            "('01/01/2021', 'Wesley', 20.0)\n",
            "('01/01/2021', 'Wesley', 20.0)\n",
            "('01/01/2021', 'Wesley', 15.0)\n",
            "('01/01/2021', 'Wesley', 17.0)\n",
            "('01/01/2021', 'Wesley', 17.0)\n"
          ]
        }
      ]
    },
    {
      "cell_type": "markdown",
      "source": [
        "## LIKE\n",
        "Procura um padrão específico em uma linha\n",
        "Há dois tipos usados com operador\n",
        "1- (%) Apresenta zero, um ou vários caracteres ao lado\n",
        "2- (_) Apresenta um único caractere"
      ],
      "metadata": {
        "id": "c5q6m7ymOUz4"
      }
    },
    {
      "cell_type": "code",
      "source": [
        "consulta6 = cursor.execute(\n",
        "    '''\n",
        "    SELECT * FROM Minha_Tabela\n",
        "    WHERE Nome LIKE'%sl%'\n",
        "    '''\n",
        ").fetchall()\n",
        "for linha in consulta6:\n",
        "  print(linha)"
      ],
      "metadata": {
        "colab": {
          "base_uri": "https://localhost:8080/"
        },
        "id": "ZmQhnnCROv6o",
        "outputId": "2bb38702-2cd9-422c-c0c6-6179a782d3f8"
      },
      "execution_count": 17,
      "outputs": [
        {
          "output_type": "stream",
          "name": "stdout",
          "text": [
            "('01/01/2021', 'Wesley', 27.0)\n",
            "('01/01/2021', 'Wesley', 18.0)\n",
            "('01/01/2021', 'Wesley', 13.0)\n",
            "('01/01/2021', 'Wesley', 15.0)\n",
            "('01/01/2021', 'Wesley', 11.0)\n",
            "('01/01/2021', 'Wesley', 20.0)\n",
            "('01/01/2021', 'Wesley', 20.0)\n",
            "('01/01/2021', 'Wesley', 15.0)\n",
            "('01/01/2021', 'Wesley', 11.0)\n",
            "('01/01/2021', 'Wesley', 17.0)\n",
            "('01/01/2021', 'Wesley', 17.0)\n"
          ]
        }
      ]
    },
    {
      "cell_type": "markdown",
      "source": [
        "### IN"
      ],
      "metadata": {
        "id": "vpM5TAWFQ2R9"
      }
    },
    {
      "cell_type": "code",
      "source": [
        "#O operador IN é um atalho para várias condições OR\n",
        "#Nesse caso ele vai selecionar todas as idades com 18,20 e 30. Fica muito mais rápido  que OR\n",
        "consulta7 = cursor.execute(\n",
        "    '''\n",
        "    SELECT * FROM Minha_Tabela\n",
        "    WHERE Idade IN(18,20,30)\n",
        "    '''\n",
        ").fetchall()\n",
        "for linha in consulta7:\n",
        "  print(linha)"
      ],
      "metadata": {
        "colab": {
          "base_uri": "https://localhost:8080/"
        },
        "id": "wna9ySOgQqUe",
        "outputId": "b4a6d05a-006f-4bf1-d64d-6908b74854e6"
      },
      "execution_count": 18,
      "outputs": [
        {
          "output_type": "stream",
          "name": "stdout",
          "text": [
            "('01/01/2021', 'Wesley', 18.0)\n",
            "('01/01/2021', 'Wesley', 20.0)\n",
            "('01/01/2021', 'Wesley', 20.0)\n"
          ]
        }
      ]
    },
    {
      "cell_type": "markdown",
      "source": [
        "###AND, OR, NOT"
      ],
      "metadata": {
        "id": "RN7QjldXRzGw"
      }
    },
    {
      "cell_type": "code",
      "source": [
        "#AND\n",
        "consulta = cursor.execute(\n",
        "    '''\n",
        "    SELECT *FROM Minha_Tabela\n",
        "    WHERE Idade = 20 AND Nome = 'Wesley'\n",
        "    '''\n",
        "\n",
        ").fetchall()\n",
        "print(consulta)"
      ],
      "metadata": {
        "colab": {
          "base_uri": "https://localhost:8080/"
        },
        "id": "rEzn5d8rR3Nq",
        "outputId": "f5d98276-cb9c-49eb-aa9a-9c8ffd443167"
      },
      "execution_count": 19,
      "outputs": [
        {
          "output_type": "stream",
          "name": "stdout",
          "text": [
            "[('01/01/2021', 'Wesley', 20.0), ('01/01/2021', 'Wesley', 20.0)]\n"
          ]
        }
      ]
    },
    {
      "cell_type": "code",
      "source": [
        "#OR\n",
        "#AND\n",
        "consulta = cursor.execute(\n",
        "    '''\n",
        "    SELECT *FROM Minha_Tabela\n",
        "    WHERE Idade = 20 OR Nome = 'Wesley'\n",
        "    '''\n",
        "\n",
        ").fetchall()\n",
        "for x in consulta:\n",
        "  print(x)"
      ],
      "metadata": {
        "colab": {
          "base_uri": "https://localhost:8080/"
        },
        "id": "fyiAt13GSgKS",
        "outputId": "85b7d2e7-bf89-4f5c-c7d9-aa37005124ad"
      },
      "execution_count": 23,
      "outputs": [
        {
          "output_type": "stream",
          "name": "stdout",
          "text": [
            "('01/01/2021', 'Wesley', 27.0)\n",
            "('01/01/2021', 'Wesley', 18.0)\n",
            "('01/01/2021', 'Wesley', 13.0)\n",
            "('01/01/2021', 'Wesley', 15.0)\n",
            "('01/01/2021', 'Wesley', 11.0)\n",
            "('01/01/2021', 'Wesley', 20.0)\n",
            "('01/01/2021', 'Wesley', 20.0)\n",
            "('01/01/2021', 'Wesley', 15.0)\n",
            "('01/01/2021', 'Wesley', 11.0)\n",
            "('01/01/2021', 'Wesley', 17.0)\n",
            "('01/01/2021', 'Wesley', 17.0)\n"
          ]
        }
      ]
    },
    {
      "cell_type": "code",
      "source": [
        ""
      ],
      "metadata": {
        "id": "6tSQDEz9TKlX"
      },
      "execution_count": null,
      "outputs": []
    },
    {
      "cell_type": "code",
      "source": [
        ""
      ],
      "metadata": {
        "id": "tVVzrYbETb6w"
      },
      "execution_count": null,
      "outputs": []
    }
  ]
}