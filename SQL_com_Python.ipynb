{
  "nbformat": 4,
  "nbformat_minor": 0,
  "metadata": {
    "colab": {
      "name": "SQL com Python",
      "provenance": [],
      "authorship_tag": "ABX9TyMKEvrHJMG9HvgWx1VPuFAL"
    },
    "kernelspec": {
      "name": "python3",
      "display_name": "Python 3"
    },
    "language_info": {
      "name": "python"
    }
  },
  "cells": [
    {
      "cell_type": "markdown",
      "source": [
        "# Pyhton com SQL\n",
        "Práticas de SQL com Python"
      ],
      "metadata": {
        "id": "t_WTl0LWKLl7"
      }
    },
    {
      "cell_type": "code",
      "execution_count": 1,
      "metadata": {
        "id": "N-78FaVnKAai"
      },
      "outputs": [],
      "source": [
        "#importando a biblioteca para manipulação do banco de dados\n",
        "import sqlite3"
      ]
    },
    {
      "cell_type": "code",
      "source": [
        "#Criando a conexão com a base de dados\n",
        "conexao = sqlite3.connect(\"Banco_Dados\")"
      ],
      "metadata": {
        "id": "lRTa26b_L13P"
      },
      "execution_count": 2,
      "outputs": []
    },
    {
      "cell_type": "code",
      "source": [
        "#Apontar para o banco\n",
        "#sempre utilizaremos o cursor para realizar as queries\n",
        "cursor = conexao.cursor()"
      ],
      "metadata": {
        "id": "vAHBAk__MEQg"
      },
      "execution_count": 3,
      "outputs": []
    },
    {
      "cell_type": "code",
      "source": [
        "#Criando uma tabela\n",
        "cursor.execute(\n",
        "    'CREATE TABLE Minha_Tabela(Data text,Nome text,Idade real)'\n",
        ")\n",
        "#Fazer um commit\n",
        "conexao.commit()"
      ],
      "metadata": {
        "id": "t6Ulnu38M4vs"
      },
      "execution_count": 4,
      "outputs": []
    },
    {
      "cell_type": "markdown",
      "source": [
        "INSERT INTO"
      ],
      "metadata": {
        "id": "1b602_WHN3RV"
      }
    },
    {
      "cell_type": "code",
      "source": [
        "cursor.execute('INSERT INTO Minha_Tabela VALUES (\"01/01/2021\",\"Wesley\",\"27\")')"
      ],
      "metadata": {
        "id": "VfGta7yTN5X-",
        "colab": {
          "base_uri": "https://localhost:8080/"
        },
        "outputId": "77e240a8-7ab4-43ad-e403-f6dc97e6458f"
      },
      "execution_count": 5,
      "outputs": [
        {
          "output_type": "execute_result",
          "data": {
            "text/plain": [
              "<sqlite3.Cursor at 0x7f0685984b20>"
            ]
          },
          "metadata": {},
          "execution_count": 5
        }
      ]
    },
    {
      "cell_type": "code",
      "source": [
        "#importando random\n",
        "import random"
      ],
      "metadata": {
        "id": "eS2_VNiNOgIg"
      },
      "execution_count": 6,
      "outputs": []
    },
    {
      "cell_type": "code",
      "source": [
        "random.randint(10,20)"
      ],
      "metadata": {
        "id": "qhMRn0LrOuGH",
        "colab": {
          "base_uri": "https://localhost:8080/"
        },
        "outputId": "5f33e583-5f75-4e22-a744-9860d6c34ccf"
      },
      "execution_count": 7,
      "outputs": [
        {
          "output_type": "execute_result",
          "data": {
            "text/plain": [
              "20"
            ]
          },
          "metadata": {},
          "execution_count": 7
        }
      ]
    },
    {
      "cell_type": "code",
      "source": [
        "for loop in range(10):\n",
        "  numero = random.randint(10,20)\n",
        "  cursor.execute(f'INSERT INTO Minha_Tabela VALUES (\"01/01/2021\",\"Wesley\", {numero} )')"
      ],
      "metadata": {
        "id": "sEtxuGOJPGX8"
      },
      "execution_count": 8,
      "outputs": []
    },
    {
      "cell_type": "markdown",
      "source": [
        "## SELECT"
      ],
      "metadata": {
        "id": "eLQ1HBxWvKgQ"
      }
    },
    {
      "cell_type": "code",
      "source": [
        "consulta = cursor.execute('SELECT * FROM Minha_Tabela').fetchall()\n",
        "print(consulta)"
      ],
      "metadata": {
        "id": "iC29KIA4pcp8",
        "colab": {
          "base_uri": "https://localhost:8080/"
        },
        "outputId": "de10e38c-2ac3-4abe-b3fa-032368a20b67"
      },
      "execution_count": 9,
      "outputs": [
        {
          "output_type": "stream",
          "name": "stdout",
          "text": [
            "[('01/01/2021', 'Wesley', 27.0), ('01/01/2021', 'Wesley', 12.0), ('01/01/2021', 'Wesley', 11.0), ('01/01/2021', 'Wesley', 17.0), ('01/01/2021', 'Wesley', 19.0), ('01/01/2021', 'Wesley', 17.0), ('01/01/2021', 'Wesley', 13.0), ('01/01/2021', 'Wesley', 10.0), ('01/01/2021', 'Wesley', 10.0), ('01/01/2021', 'Wesley', 13.0), ('01/01/2021', 'Wesley', 20.0)]\n"
          ]
        }
      ]
    },
    {
      "cell_type": "code",
      "source": [
        "consulta2 = cursor.execute('SELECT Nome,Idade FROM Minha_Tabela').fetchall()\n",
        "for linha in consulta2:\n",
        "  print(linha)"
      ],
      "metadata": {
        "id": "3pf4ZQu0uNrp",
        "colab": {
          "base_uri": "https://localhost:8080/"
        },
        "outputId": "974db368-e7b1-4491-a9d6-0d5916845402"
      },
      "execution_count": 10,
      "outputs": [
        {
          "output_type": "stream",
          "name": "stdout",
          "text": [
            "('Wesley', 27.0)\n",
            "('Wesley', 12.0)\n",
            "('Wesley', 11.0)\n",
            "('Wesley', 17.0)\n",
            "('Wesley', 19.0)\n",
            "('Wesley', 17.0)\n",
            "('Wesley', 13.0)\n",
            "('Wesley', 10.0)\n",
            "('Wesley', 10.0)\n",
            "('Wesley', 13.0)\n",
            "('Wesley', 20.0)\n"
          ]
        }
      ]
    },
    {
      "cell_type": "code",
      "source": [
        "consulta3 = cursor.execute('''\n",
        "SELECT * FROM Minha_Tabela\n",
        "Where Nome = 'Pedro'\n",
        "''').fetchall()\n",
        "print(consulta3)"
      ],
      "metadata": {
        "id": "rt_kW_ukvIdQ",
        "colab": {
          "base_uri": "https://localhost:8080/"
        },
        "outputId": "a7605158-a915-4179-b604-c8d89f628165"
      },
      "execution_count": 11,
      "outputs": [
        {
          "output_type": "stream",
          "name": "stdout",
          "text": [
            "[]\n"
          ]
        }
      ]
    },
    {
      "cell_type": "code",
      "source": [
        "consulta4 = cursor.execute('''\n",
        "SELECT * FROM Minha_Tabela\n",
        "Where Idade > 25\n",
        "''').fetchall()\n",
        "print(consulta4)"
      ],
      "metadata": {
        "id": "tCoieNbIwDY1",
        "colab": {
          "base_uri": "https://localhost:8080/"
        },
        "outputId": "ae7f57ef-9bef-4ea6-f56d-5144dc336aba"
      },
      "execution_count": 12,
      "outputs": [
        {
          "output_type": "stream",
          "name": "stdout",
          "text": [
            "[('01/01/2021', 'Wesley', 27.0)]\n"
          ]
        }
      ]
    },
    {
      "cell_type": "code",
      "source": [
        "#BETWEEN\n",
        "consulta5 = cursor.execute('''\n",
        "SELECT * FROM Minha_Tabela\n",
        "Where Idade  BETWEEN 15 AND 30\n",
        "''').fetchall()\n",
        "for Linha in consulta5:\n",
        "  print(Linha)"
      ],
      "metadata": {
        "id": "ighUWWtjwRgF",
        "colab": {
          "base_uri": "https://localhost:8080/"
        },
        "outputId": "1d1e47e7-fe10-4d92-9a3b-3cf03d105df5"
      },
      "execution_count": 13,
      "outputs": [
        {
          "output_type": "stream",
          "name": "stdout",
          "text": [
            "('01/01/2021', 'Wesley', 27.0)\n",
            "('01/01/2021', 'Wesley', 17.0)\n",
            "('01/01/2021', 'Wesley', 19.0)\n",
            "('01/01/2021', 'Wesley', 17.0)\n",
            "('01/01/2021', 'Wesley', 20.0)\n"
          ]
        }
      ]
    },
    {
      "cell_type": "markdown",
      "source": [
        "## LIKE\n",
        "Procura um padrão específico em uma linha\n",
        "Há dois tipos usados com operador\n",
        "1- (%) Apresenta zero, um ou vários caracteres ao lado\n",
        "2- (_) Apresenta um único caractere"
      ],
      "metadata": {
        "id": "c5q6m7ymOUz4"
      }
    },
    {
      "cell_type": "code",
      "source": [
        "consulta6 = cursor.execute(\n",
        "    '''\n",
        "    SELECT * FROM Minha_Tabela\n",
        "    WHERE Nome LIKE'%sl%'\n",
        "    '''\n",
        ").fetchall()\n",
        "for linha in consulta6:\n",
        "  print(linha)"
      ],
      "metadata": {
        "id": "ZmQhnnCROv6o",
        "colab": {
          "base_uri": "https://localhost:8080/"
        },
        "outputId": "dd2ba5a9-65a8-4d09-e271-55d98081d709"
      },
      "execution_count": 14,
      "outputs": [
        {
          "output_type": "stream",
          "name": "stdout",
          "text": [
            "('01/01/2021', 'Wesley', 27.0)\n",
            "('01/01/2021', 'Wesley', 12.0)\n",
            "('01/01/2021', 'Wesley', 11.0)\n",
            "('01/01/2021', 'Wesley', 17.0)\n",
            "('01/01/2021', 'Wesley', 19.0)\n",
            "('01/01/2021', 'Wesley', 17.0)\n",
            "('01/01/2021', 'Wesley', 13.0)\n",
            "('01/01/2021', 'Wesley', 10.0)\n",
            "('01/01/2021', 'Wesley', 10.0)\n",
            "('01/01/2021', 'Wesley', 13.0)\n",
            "('01/01/2021', 'Wesley', 20.0)\n"
          ]
        }
      ]
    },
    {
      "cell_type": "markdown",
      "source": [
        "### IN"
      ],
      "metadata": {
        "id": "vpM5TAWFQ2R9"
      }
    },
    {
      "cell_type": "code",
      "source": [
        "#O operador IN é um atalho para várias condições OR\n",
        "#Nesse caso ele vai selecionar todas as idades com 18,20 e 30. Fica muito mais rápido  que OR\n",
        "consulta7 = cursor.execute(\n",
        "    '''\n",
        "    SELECT * FROM Minha_Tabela\n",
        "    WHERE Idade IN(18,20,30)\n",
        "    '''\n",
        ").fetchall()\n",
        "for linha in consulta7:\n",
        "  print(linha)"
      ],
      "metadata": {
        "id": "wna9ySOgQqUe",
        "colab": {
          "base_uri": "https://localhost:8080/"
        },
        "outputId": "bf98e7a0-f871-4994-91cc-13995075f461"
      },
      "execution_count": 15,
      "outputs": [
        {
          "output_type": "stream",
          "name": "stdout",
          "text": [
            "('01/01/2021', 'Wesley', 20.0)\n"
          ]
        }
      ]
    },
    {
      "cell_type": "markdown",
      "source": [
        "###AND, OR, NOT"
      ],
      "metadata": {
        "id": "RN7QjldXRzGw"
      }
    },
    {
      "cell_type": "code",
      "source": [
        "#AND\n",
        "consulta = cursor.execute(\n",
        "    '''\n",
        "    SELECT *FROM Minha_Tabela\n",
        "    WHERE Idade = 20 AND Nome = 'Wesley'\n",
        "    '''\n",
        "\n",
        ").fetchall()\n",
        "print(consulta)"
      ],
      "metadata": {
        "id": "rEzn5d8rR3Nq",
        "colab": {
          "base_uri": "https://localhost:8080/"
        },
        "outputId": "7c0e7f87-234a-4104-9cce-e443749adb95"
      },
      "execution_count": 16,
      "outputs": [
        {
          "output_type": "stream",
          "name": "stdout",
          "text": [
            "[('01/01/2021', 'Wesley', 20.0)]\n"
          ]
        }
      ]
    },
    {
      "cell_type": "code",
      "source": [
        "#OR\n",
        "#AND\n",
        "consulta = cursor.execute(\n",
        "    '''\n",
        "    SELECT *FROM Minha_Tabela\n",
        "    WHERE Idade = 20 OR Nome = 'Wesley'\n",
        "    '''\n",
        "\n",
        ").fetchall()\n",
        "for x in consulta:\n",
        "  print(x)"
      ],
      "metadata": {
        "id": "fyiAt13GSgKS",
        "colab": {
          "base_uri": "https://localhost:8080/"
        },
        "outputId": "10431c90-206b-472f-a553-39f46bd0ed13"
      },
      "execution_count": 17,
      "outputs": [
        {
          "output_type": "stream",
          "name": "stdout",
          "text": [
            "('01/01/2021', 'Wesley', 27.0)\n",
            "('01/01/2021', 'Wesley', 12.0)\n",
            "('01/01/2021', 'Wesley', 11.0)\n",
            "('01/01/2021', 'Wesley', 17.0)\n",
            "('01/01/2021', 'Wesley', 19.0)\n",
            "('01/01/2021', 'Wesley', 17.0)\n",
            "('01/01/2021', 'Wesley', 13.0)\n",
            "('01/01/2021', 'Wesley', 10.0)\n",
            "('01/01/2021', 'Wesley', 10.0)\n",
            "('01/01/2021', 'Wesley', 13.0)\n",
            "('01/01/2021', 'Wesley', 20.0)\n"
          ]
        }
      ]
    },
    {
      "cell_type": "markdown",
      "source": [
        "### ORDER BY"
      ],
      "metadata": {
        "id": "n280EsmhV8C_"
      }
    },
    {
      "cell_type": "code",
      "source": [
        "#Ascendente\n",
        "consulta = cursor.execute(\n",
        "    '''\n",
        "    SELECT * FROM Minha_Tabela\n",
        "    WHERE Nome LIKE 'Wesley%'\n",
        "    ORDER BY Idade\n",
        "    '''\n",
        ").fetchall()\n",
        "for linha in consulta:\n",
        "  print(linha)"
      ],
      "metadata": {
        "id": "6tSQDEz9TKlX",
        "colab": {
          "base_uri": "https://localhost:8080/"
        },
        "outputId": "f06e1f56-e131-4436-a583-31533298a7dd"
      },
      "execution_count": 18,
      "outputs": [
        {
          "output_type": "stream",
          "name": "stdout",
          "text": [
            "('01/01/2021', 'Wesley', 10.0)\n",
            "('01/01/2021', 'Wesley', 10.0)\n",
            "('01/01/2021', 'Wesley', 11.0)\n",
            "('01/01/2021', 'Wesley', 12.0)\n",
            "('01/01/2021', 'Wesley', 13.0)\n",
            "('01/01/2021', 'Wesley', 13.0)\n",
            "('01/01/2021', 'Wesley', 17.0)\n",
            "('01/01/2021', 'Wesley', 17.0)\n",
            "('01/01/2021', 'Wesley', 19.0)\n",
            "('01/01/2021', 'Wesley', 20.0)\n",
            "('01/01/2021', 'Wesley', 27.0)\n"
          ]
        }
      ]
    },
    {
      "cell_type": "code",
      "source": [
        "#Descendente\n",
        "consulta = cursor.execute(\n",
        "    '''\n",
        "    SELECT * FROM Minha_Tabela\n",
        "    WHERE Nome LIKE 'Wesley%'\n",
        "    ORDER BY Idade DESC\n",
        "    '''\n",
        ").fetchall()\n",
        "for linha in consulta:\n",
        "  print(linha)"
      ],
      "metadata": {
        "id": "tVVzrYbETb6w",
        "colab": {
          "base_uri": "https://localhost:8080/"
        },
        "outputId": "00a013df-d18e-45c9-b1e4-d8a294916be7"
      },
      "execution_count": 19,
      "outputs": [
        {
          "output_type": "stream",
          "name": "stdout",
          "text": [
            "('01/01/2021', 'Wesley', 27.0)\n",
            "('01/01/2021', 'Wesley', 20.0)\n",
            "('01/01/2021', 'Wesley', 19.0)\n",
            "('01/01/2021', 'Wesley', 17.0)\n",
            "('01/01/2021', 'Wesley', 17.0)\n",
            "('01/01/2021', 'Wesley', 13.0)\n",
            "('01/01/2021', 'Wesley', 13.0)\n",
            "('01/01/2021', 'Wesley', 12.0)\n",
            "('01/01/2021', 'Wesley', 11.0)\n",
            "('01/01/2021', 'Wesley', 10.0)\n",
            "('01/01/2021', 'Wesley', 10.0)\n"
          ]
        }
      ]
    },
    {
      "cell_type": "markdown",
      "source": [
        "### UPDATE\n",
        "Utilizado para alterar um valor que já existe na tabela"
      ],
      "metadata": {
        "id": "RgE4ujlhW7rc"
      }
    },
    {
      "cell_type": "code",
      "source": [
        "#Baseado na minha Tabela\n",
        "#Mudando o nome one a idade for 20\n",
        "consulta = cursor.execute(\n",
        "    '''\n",
        "    UPDATE Minha_Tabela\n",
        "    SET Nome = 'Wendel'\n",
        "    WHERE Idade = 20\n",
        "    '''\n",
        ").fetchall()\n",
        "#mostrando a tabela\n",
        "consulta = cursor.execute(\n",
        "    '''\n",
        "    SELECT * FROM Minha_Tabela\n",
        "    ORDER BY Idade\n",
        "    '''\n",
        ").fetchall()\n",
        "\n",
        "for x in consulta:\n",
        "  print(x)"
      ],
      "metadata": {
        "id": "BP3--sINXCv1",
        "colab": {
          "base_uri": "https://localhost:8080/"
        },
        "outputId": "58f9a902-4cb6-47e8-9975-4d2fdf919788"
      },
      "execution_count": 20,
      "outputs": [
        {
          "output_type": "stream",
          "name": "stdout",
          "text": [
            "('01/01/2021', 'Wesley', 10.0)\n",
            "('01/01/2021', 'Wesley', 10.0)\n",
            "('01/01/2021', 'Wesley', 11.0)\n",
            "('01/01/2021', 'Wesley', 12.0)\n",
            "('01/01/2021', 'Wesley', 13.0)\n",
            "('01/01/2021', 'Wesley', 13.0)\n",
            "('01/01/2021', 'Wesley', 17.0)\n",
            "('01/01/2021', 'Wesley', 17.0)\n",
            "('01/01/2021', 'Wesley', 19.0)\n",
            "('01/01/2021', 'Wendel', 20.0)\n",
            "('01/01/2021', 'Wesley', 27.0)\n"
          ]
        }
      ]
    },
    {
      "cell_type": "markdown",
      "source": [
        "###DELETE"
      ],
      "metadata": {
        "id": "Gi06uuVvZKbK"
      }
    },
    {
      "cell_type": "markdown",
      "source": [
        ""
      ],
      "metadata": {
        "id": "Juwb74x6fkPu"
      }
    },
    {
      "cell_type": "code",
      "source": [
        "consulta = cursor.execute(\n",
        "    '''\n",
        "    DELETE FROM Minha_Tabela\n",
        "    WHERE Idade = 11\n",
        "    '''\n",
        ").fetchall()\n",
        "#mostrando a tabela\n",
        "consulta = cursor.execute(\n",
        "    '''\n",
        "    SELECT * FROM Minha_Tabela\n",
        "    ORDER BY Idade\n",
        "    '''\n",
        ").fetchall()\n",
        "\n",
        "for x in consulta:\n",
        "  print(x)"
      ],
      "metadata": {
        "id": "uxCPdWIGZMgZ",
        "colab": {
          "base_uri": "https://localhost:8080/"
        },
        "outputId": "caaf3de6-498f-45ed-9b54-f5a31f6a58a1"
      },
      "execution_count": 21,
      "outputs": [
        {
          "output_type": "stream",
          "name": "stdout",
          "text": [
            "('01/01/2021', 'Wesley', 10.0)\n",
            "('01/01/2021', 'Wesley', 10.0)\n",
            "('01/01/2021', 'Wesley', 12.0)\n",
            "('01/01/2021', 'Wesley', 13.0)\n",
            "('01/01/2021', 'Wesley', 13.0)\n",
            "('01/01/2021', 'Wesley', 17.0)\n",
            "('01/01/2021', 'Wesley', 17.0)\n",
            "('01/01/2021', 'Wesley', 19.0)\n",
            "('01/01/2021', 'Wendel', 20.0)\n",
            "('01/01/2021', 'Wesley', 27.0)\n"
          ]
        }
      ]
    },
    {
      "cell_type": "markdown",
      "source": [
        "### SELECT TOP"
      ],
      "metadata": {
        "id": "eeQCnDqjfq-n"
      }
    },
    {
      "cell_type": "code",
      "source": [
        "consulta = cursor.execute(\n",
        "    '''\n",
        "    SELECT * FROM Minha_Tabela\n",
        "    LIMIT 3\n",
        "    '''\n",
        ").fetchall()\n",
        "for x in consulta:\n",
        "  print(x)"
      ],
      "metadata": {
        "id": "W6B8PM5Jft_Q",
        "colab": {
          "base_uri": "https://localhost:8080/"
        },
        "outputId": "2a39ade4-40fc-488c-dc21-27a9e12a243f"
      },
      "execution_count": 22,
      "outputs": [
        {
          "output_type": "stream",
          "name": "stdout",
          "text": [
            "('01/01/2021', 'Wesley', 27.0)\n",
            "('01/01/2021', 'Wesley', 12.0)\n",
            "('01/01/2021', 'Wesley', 17.0)\n"
          ]
        }
      ]
    },
    {
      "cell_type": "markdown",
      "source": [
        "### MIN/MAX"
      ],
      "metadata": {
        "id": "aBYP1WF9gQHe"
      }
    },
    {
      "cell_type": "code",
      "source": [
        "consulta = cursor.execute(\n",
        "    ''' SELECT MIN(Idade) FROM Minha_Tabela\n",
        "    '''\n",
        ").fetchall()\n",
        "for x in consulta:\n",
        "  print(x)"
      ],
      "metadata": {
        "id": "C4Yy5PGhgS2K",
        "colab": {
          "base_uri": "https://localhost:8080/"
        },
        "outputId": "e99420ef-defe-48fb-c11b-b3e0ba7eb195"
      },
      "execution_count": 23,
      "outputs": [
        {
          "output_type": "stream",
          "name": "stdout",
          "text": [
            "(10.0,)\n"
          ]
        }
      ]
    },
    {
      "cell_type": "code",
      "source": [
        "consulta = cursor.execute(\n",
        "    ''' SELECT MAX(Idade) FROM Minha_Tabela\n",
        "    '''\n",
        ").fetchall()\n",
        "for x in consulta:\n",
        "  print(x)"
      ],
      "metadata": {
        "id": "Aqh8j5dSgnVq",
        "colab": {
          "base_uri": "https://localhost:8080/"
        },
        "outputId": "f6d1c38d-730a-452c-8a9b-0adf4b82ea9f"
      },
      "execution_count": 24,
      "outputs": [
        {
          "output_type": "stream",
          "name": "stdout",
          "text": [
            "(27.0,)\n"
          ]
        }
      ]
    },
    {
      "cell_type": "markdown",
      "source": [
        "### COUNT/AVG/SUM\n"
      ],
      "metadata": {
        "id": "m4kAq6yfgsuC"
      }
    },
    {
      "cell_type": "code",
      "source": [
        "#Count conta quantos valores contem.\n",
        "consulta = cursor.execute(\n",
        "    ''' SELECT COUNT(Idade) FROM Minha_Tabela\n",
        "        WHERE  Nome LIKE 'Wesley'\n",
        "    '''\n",
        ").fetchall()\n",
        "for x in consulta:\n",
        "  print(x)"
      ],
      "metadata": {
        "id": "FvfXbrl7g2IR",
        "colab": {
          "base_uri": "https://localhost:8080/"
        },
        "outputId": "782cf42b-d91d-45a6-d24a-ccf87b7beb76"
      },
      "execution_count": 25,
      "outputs": [
        {
          "output_type": "stream",
          "name": "stdout",
          "text": [
            "(9,)\n"
          ]
        }
      ]
    },
    {
      "cell_type": "code",
      "source": [
        "#AVG\n",
        "consulta = cursor.execute(\n",
        "    ''' SELECT AVG(Idade) FROM Minha_Tabela\n",
        "    '''\n",
        ").fetchall()\n",
        "for x in consulta:\n",
        "  print(x)"
      ],
      "metadata": {
        "id": "wMP9Mu9WhhNJ",
        "colab": {
          "base_uri": "https://localhost:8080/"
        },
        "outputId": "996edadd-c049-46b9-8bd9-871ff69dc6e0"
      },
      "execution_count": 26,
      "outputs": [
        {
          "output_type": "stream",
          "name": "stdout",
          "text": [
            "(15.8,)\n"
          ]
        }
      ]
    },
    {
      "cell_type": "code",
      "source": [
        "consulta = cursor.execute(\n",
        "    ''' SELECT SUM(Idade) FROM Minha_Tabela\n",
        "    '''\n",
        ").fetchall()\n",
        "for x in consulta:\n",
        "  print(x)"
      ],
      "metadata": {
        "id": "9GvFlyMrhsF2",
        "colab": {
          "base_uri": "https://localhost:8080/"
        },
        "outputId": "fd1b8d3e-b135-4540-c220-efb0bfbac7b3"
      },
      "execution_count": 27,
      "outputs": [
        {
          "output_type": "stream",
          "name": "stdout",
          "text": [
            "(158.0,)\n"
          ]
        }
      ]
    },
    {
      "cell_type": "markdown",
      "source": [
        "###ALIASES\n",
        "Dá um nome temporário a uma tabela"
      ],
      "metadata": {
        "id": "_iCrqOGBhy41"
      }
    },
    {
      "cell_type": "code",
      "source": [
        "consulta = cursor.execute(\n",
        "    ''' SELECT Idade AS Id FROM Minha_Tabela\n",
        "    '''\n",
        ").fetchall()\n",
        "for x in consulta:\n",
        "  print(x)"
      ],
      "metadata": {
        "id": "cL3F6k6dh8Up",
        "colab": {
          "base_uri": "https://localhost:8080/"
        },
        "outputId": "57e59f2d-a2b2-4a65-e805-092bd70ae2a3"
      },
      "execution_count": 28,
      "outputs": [
        {
          "output_type": "stream",
          "name": "stdout",
          "text": [
            "(27.0,)\n",
            "(12.0,)\n",
            "(17.0,)\n",
            "(19.0,)\n",
            "(17.0,)\n",
            "(13.0,)\n",
            "(10.0,)\n",
            "(10.0,)\n",
            "(13.0,)\n",
            "(20.0,)\n"
          ]
        }
      ]
    },
    {
      "cell_type": "markdown",
      "source": [
        "##JOINS\n"
      ],
      "metadata": {
        "id": "ppfIGFhmm34U"
      }
    },
    {
      "cell_type": "code",
      "source": [
        "#INNER JOIN\n",
        "consulta = cursor.execute(\n",
        "    ''' CREATE TABLE Vendas(id real,valor real)\n",
        "    '''\n",
        ")\n",
        "conexao.commit()"
      ],
      "metadata": {
        "id": "othkmwpInyKt"
      },
      "execution_count": 29,
      "outputs": []
    },
    {
      "cell_type": "code",
      "source": [
        "consulta = cursor.execute(\n",
        "    ''' CREATE TABLE Vendedor(id real,nome text)\n",
        "    '''\n",
        ")\n",
        "conexao.commit()"
      ],
      "metadata": {
        "id": "QOJr6groojBF"
      },
      "execution_count": 30,
      "outputs": []
    },
    {
      "cell_type": "code",
      "source": [
        "#VENDAS\n",
        "consulta = cursor.execute(''' INSERT INTO Vendas VALUES(1,100)''')\n",
        "consulta = cursor.execute(''' INSERT INTO Vendas VALUES(1,200)''')\n",
        "consulta = cursor.execute(''' INSERT INTO Vendas VALUES(1,150)''')\n",
        "\n",
        "consulta = cursor.execute(''' INSERT INTO Vendas VALUES(2,50)''')\n",
        "consulta = cursor.execute(''' INSERT INTO Vendas VALUES(2,200)''')\n",
        "consulta = cursor.execute(''' INSERT INTO Vendas VALUES(2,900)''')\n",
        "\n",
        "consulta = cursor.execute(''' INSERT INTO Vendas VALUES(3,200)''')"
      ],
      "metadata": {
        "id": "3KkSTfqmo4-d"
      },
      "execution_count": 31,
      "outputs": []
    },
    {
      "cell_type": "code",
      "source": [
        "#Cadastro Vendedores\n",
        "consulta = cursor.execute(''' INSERT INTO Vendedor VALUES(1,\"Arrascaeta\")''')\n",
        "consulta = cursor.execute(''' INSERT INTO Vendedor VALUES(2,\"Gabigol\")''')"
      ],
      "metadata": {
        "id": "mQrwo7Rrpv1m"
      },
      "execution_count": 32,
      "outputs": []
    },
    {
      "cell_type": "code",
      "source": [
        "consulta = cursor.execute(\n",
        "    ''' SELECT * FROM Vendas\n",
        "        JOIN Vendedor ON Vendas.id = Vendedor.id\n",
        "    ''').fetchall()\n",
        "for x in consulta:\n",
        "  print(x)\n"
      ],
      "metadata": {
        "colab": {
          "base_uri": "https://localhost:8080/"
        },
        "id": "uraoMqXWqlsO",
        "outputId": "24772b28-6234-46e2-c039-daa34c1dad9f"
      },
      "execution_count": 33,
      "outputs": [
        {
          "output_type": "stream",
          "name": "stdout",
          "text": [
            "(1.0, 100.0, 1.0, 'Arrascaeta')\n",
            "(1.0, 200.0, 1.0, 'Arrascaeta')\n",
            "(1.0, 150.0, 1.0, 'Arrascaeta')\n",
            "(2.0, 50.0, 2.0, 'Gabigol')\n",
            "(2.0, 200.0, 2.0, 'Gabigol')\n",
            "(2.0, 900.0, 2.0, 'Gabigol')\n"
          ]
        }
      ]
    },
    {
      "cell_type": "code",
      "source": [
        "#LEFT JOIN\n",
        "consulta = cursor.execute(\n",
        "    ''' SELECT * FROM Vendas\n",
        "        LEFT JOIN Vendedor ON Vendas.id = Vendedor.id\n",
        "    ''').fetchall()\n",
        "for x in consulta:\n",
        "  print(x)\n",
        "\n"
      ],
      "metadata": {
        "colab": {
          "base_uri": "https://localhost:8080/"
        },
        "id": "oyMTBAOerfP4",
        "outputId": "9d5672e0-cfb4-44e0-f09a-8b8905836833"
      },
      "execution_count": 34,
      "outputs": [
        {
          "output_type": "stream",
          "name": "stdout",
          "text": [
            "(1.0, 100.0, 1.0, 'Arrascaeta')\n",
            "(1.0, 200.0, 1.0, 'Arrascaeta')\n",
            "(1.0, 150.0, 1.0, 'Arrascaeta')\n",
            "(2.0, 50.0, 2.0, 'Gabigol')\n",
            "(2.0, 200.0, 2.0, 'Gabigol')\n",
            "(2.0, 900.0, 2.0, 'Gabigol')\n",
            "(3.0, 200.0, None, None)\n"
          ]
        }
      ]
    },
    {
      "cell_type": "markdown",
      "source": [
        "###UNION"
      ],
      "metadata": {
        "id": "biIQwHLod4Mm"
      }
    },
    {
      "cell_type": "code",
      "source": [
        "#Combina dois ou mais SELECT\n",
        "cursor.execute('CREATE TABLE Tabela1(id real, nome text)')\n",
        "cursor.execute('CREATE TABLE Tabela2(id real, nome text)')\n",
        "conexao.commit()\n"
      ],
      "metadata": {
        "id": "qFgb5wLTd8LF"
      },
      "execution_count": 35,
      "outputs": []
    },
    {
      "cell_type": "code",
      "source": [
        "#Inserindo Valores\n",
        "cursor.execute('INSERT INTO Tabela1 VALUES(1,\"Bruno Henrique\")')\n",
        "cursor.execute('INSERT INTO Tabela1 VALUES(2,\"Pereira\")')\n",
        "cursor.execute('INSERT INTO Tabela1 VALUES(3,\"Deyverson\")')\n",
        "\n",
        "cursor.execute('INSERT INTO Tabela2 VALUES(1,\"Pedro\")')\n",
        "cursor.execute('INSERT INTO Tabela2 VALUES(2,\"Pablo\")')\n",
        "cursor.execute('INSERT INTO Tabela2 VALUES(3,\"Diego\")')\n"
      ],
      "metadata": {
        "colab": {
          "base_uri": "https://localhost:8080/"
        },
        "id": "VZEMmoKHkMJM",
        "outputId": "620801e6-2c67-45ce-91e5-d72efe30425b"
      },
      "execution_count": 36,
      "outputs": [
        {
          "output_type": "execute_result",
          "data": {
            "text/plain": [
              "<sqlite3.Cursor at 0x7f0685984b20>"
            ]
          },
          "metadata": {},
          "execution_count": 36
        }
      ]
    },
    {
      "cell_type": "code",
      "source": [
        "#Fazendo a união\n",
        "consulta = cursor.execute(\n",
        "    '''\n",
        "    SELECT * FROM Tabela1\n",
        "    UNION ALL\n",
        "    SELECT * FROM Tabela2\n",
        "    '''\n",
        ").fetchall()\n",
        "for x in consulta:\n",
        "  print(x)"
      ],
      "metadata": {
        "colab": {
          "base_uri": "https://localhost:8080/"
        },
        "id": "phgembBjk_8L",
        "outputId": "1d8b8241-6bca-40c8-af11-49d2d8a6e54a"
      },
      "execution_count": 37,
      "outputs": [
        {
          "output_type": "stream",
          "name": "stdout",
          "text": [
            "(1.0, 'Bruno Henrique')\n",
            "(2.0, 'Pereira')\n",
            "(3.0, 'Deyverson')\n",
            "(1.0, 'Pedro')\n",
            "(2.0, 'Pablo')\n",
            "(3.0, 'Diego')\n"
          ]
        }
      ]
    },
    {
      "cell_type": "markdown",
      "source": [
        "###GROUP BY"
      ],
      "metadata": {
        "id": "KOM31d0ImQm2"
      }
    },
    {
      "cell_type": "code",
      "source": [
        "#Agrupa as linhas que tem os mesmos valores em linhas de resumo\n",
        "#É usada com funções de agregação\n",
        "consulta = cursor.execute(\n",
        "    '''\n",
        "    SELECT * FROM Minha_Tabela\n",
        "    '''\n",
        ").fetchall()\n",
        "for x in consulta:\n",
        "  print(x)"
      ],
      "metadata": {
        "colab": {
          "base_uri": "https://localhost:8080/"
        },
        "id": "VU4FCyXemTGQ",
        "outputId": "6564aea0-8652-496b-d24b-ae5382cce1f9"
      },
      "execution_count": 38,
      "outputs": [
        {
          "output_type": "stream",
          "name": "stdout",
          "text": [
            "('01/01/2021', 'Wesley', 27.0)\n",
            "('01/01/2021', 'Wesley', 12.0)\n",
            "('01/01/2021', 'Wesley', 17.0)\n",
            "('01/01/2021', 'Wesley', 19.0)\n",
            "('01/01/2021', 'Wesley', 17.0)\n",
            "('01/01/2021', 'Wesley', 13.0)\n",
            "('01/01/2021', 'Wesley', 10.0)\n",
            "('01/01/2021', 'Wesley', 10.0)\n",
            "('01/01/2021', 'Wesley', 13.0)\n",
            "('01/01/2021', 'Wendel', 20.0)\n"
          ]
        }
      ]
    },
    {
      "cell_type": "code",
      "source": [
        "consulta = cursor.execute(\n",
        "    '''\n",
        "    SELECT Nome, SUM(Idade) FROM Minha_Tabela\n",
        "    GROUP BY Nome\n",
        "        '''\n",
        ").fetchall()\n",
        "for x in consulta:\n",
        "  print(x)"
      ],
      "metadata": {
        "colab": {
          "base_uri": "https://localhost:8080/"
        },
        "id": "ITvYg3e0nCEA",
        "outputId": "f8367260-3d82-4624-c545-c5846ddf11b2"
      },
      "execution_count": 40,
      "outputs": [
        {
          "output_type": "stream",
          "name": "stdout",
          "text": [
            "('Wendel', 20.0)\n",
            "('Wesley', 138.0)\n"
          ]
        }
      ]
    },
    {
      "cell_type": "code",
      "source": [
        ""
      ],
      "metadata": {
        "id": "CCVMSLUdnq1p"
      },
      "execution_count": null,
      "outputs": []
    }
  ]
}